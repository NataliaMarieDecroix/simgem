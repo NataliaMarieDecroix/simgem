{
  "cells": [
    {
      "cell_type": "markdown",
      "metadata": {
        "id": "M7WgYp-iHw4b"
      },
      "source": [
        "# Set up the environment\n",
        "The software we will use includes:\n",
        "- Gmsh -- https://gmsh.info: for defining our detector geometry and creating a finite element mesh\n",
        "- Elmer -- http://www.elmerfem.org: for solving for the electrostatic fields\n",
        "- ROOT -- https://root.cern.ch: a prerequisite for Garfield++ (with Python enabled). Note that for this example a version of ROOT has been compiled with Python 3.\n",
        "- Garfield++ -- https://garfieldpp.web.cern.ch/garfieldpp: for detector simulation\n",
        "\n",
        "The entire development environment has already been prepared to run the code in this notebook on Google Colab and will be downloaded directly below. This setup is documented in another notebook:\n",
        "\n",
        "https://colab.research.google.com/github/jerenner/garfieldfem/blob/master/garfield_FEM_install.ipynb\n",
        "\n",
        "It can be followed to perform a similar installation on a local machine."
      ]
    },
    {
      "cell_type": "markdown",
      "metadata": {
        "id": "ZeKEaFikkiq-"
      },
      "source": [
        "**Get the pre-compiled binaries and setup environment**"
      ]
    },
    {
      "cell_type": "code",
      "execution_count": 1,
      "metadata": {
        "colab": {
          "base_uri": "https://localhost:8080/"
        },
        "id": "puPLbU-wkdWY",
        "outputId": "7013410b-4b65-4277-f79d-69b8561f9d76"
      },
      "outputs": [
        {
          "name": "stdout",
          "output_type": "stream",
          "text": [
            "Downloading binaries...\n",
            "Unpacking...\n",
            "Installing dependencies....\n",
            "Welcome to JupyROOT 6.22/08\n"
          ]
        }
      ],
      "source": [
        "!wget -q https://raw.githubusercontent.com/swieca22/swieca22/master/setup.py\n",
        "import setup\n",
        "setup.install_packages()"
      ]
    },
    {
      "cell_type": "code",
      "execution_count": 9,
      "metadata": {
        "id": "4bQTwyI7kp9E"
      },
      "outputs": [],
      "source": [
        "import ROOT\n",
        "import ctypes"
      ]
    },
    {
      "cell_type": "code",
      "execution_count": 16,
      "metadata": {
        "id": "nlRA0ds_shRS"
      },
      "outputs": [],
      "source": []
    }
  ],
  "metadata": {
    "colab": {
      "collapsed_sections": [
        "GLnhSvitLuZF"
      ],
      "name": "Fe55.ipynb",
      "provenance": [],
      "toc_visible": true
    },
    "kernelspec": {
      "display_name": "Python 3.8.10 64-bit",
      "language": "python",
      "name": "python3"
    },
    "language_info": {
      "codemirror_mode": {
        "name": "ipython",
        "version": 3
      },
      "file_extension": ".py",
      "mimetype": "text/x-python",
      "name": "python",
      "nbconvert_exporter": "python",
      "pygments_lexer": "ipython3",
      "version": "3.8.10"
    },
    "vscode": {
      "interpreter": {
        "hash": "916dbcbb3f70747c44a77c7bcd40155683ae19c65e1c03b4aa3499c5328201f1"
      }
    }
  },
  "nbformat": 4,
  "nbformat_minor": 0
}
