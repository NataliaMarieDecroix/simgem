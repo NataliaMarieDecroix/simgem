{
  "cells": [
    {
      "cell_type": "markdown",
      "metadata": {
        "id": "M7WgYp-iHw4b"
      },
      "source": [
        "# Set up the environment\n",
        "The software we will use includes:\n",
        "- Gmsh -- https://gmsh.info: for defining our detector geometry and creating a finite element mesh\n",
        "- Elmer -- http://www.elmerfem.org: for solving for the electrostatic fields\n",
        "- ROOT -- https://root.cern.ch: a prerequisite for Garfield++ (with Python enabled). Note that for this example a version of ROOT has been compiled with Python 3.\n",
        "- Garfield++ -- https://garfieldpp.web.cern.ch/garfieldpp: for detector simulation\n",
        "\n",
        "The entire development environment has already been prepared to run the code in this notebook on Google Colab and will be downloaded directly below. This setup is documented in another notebook:\n",
        "\n",
        "https://colab.research.google.com/github/jerenner/garfieldfem/blob/master/garfield_FEM_install.ipynb\n",
        "\n",
        "It can be followed to perform a similar installation on a local machine."
      ]
    },
    {
      "cell_type": "markdown",
      "metadata": {
        "id": "gZmY7lO9K8DS"
      },
      "source": [
        "**Get the pre-compiled binaries and setup environment**"
      ]
    },
    {
      "cell_type": "code",
      "execution_count": 1,
      "metadata": {
        "colab": {
          "base_uri": "https://localhost:8080/"
        },
        "id": "40_k2_UFK006",
        "outputId": "c53f5ae6-de95-4979-92e5-5978d276b9ce"
      },
      "outputs": [
        {
          "output_type": "stream",
          "name": "stdout",
          "text": [
            "Downloading binaries...\n",
            "Unpacking...\n",
            "Installing dependencies....\n",
            "Welcome to JupyROOT 6.22/08\n"
          ]
        }
      ],
      "source": [
        "!wget -q https://raw.githubusercontent.com/swieca22/swieca22/master/setup.py\n",
        "import setup\n",
        "setup.install_packages()"
      ]
    },
    {
      "cell_type": "code",
      "source": [
        "import ROOT\n",
        "import ctypes"
      ],
      "metadata": {
        "id": "29XZ9vXtjcKS"
      },
      "execution_count": 2,
      "outputs": []
    },
    {
      "cell_type": "code",
      "execution_count": 3,
      "metadata": {
        "colab": {
          "base_uri": "https://localhost:8080/"
        },
        "id": "7B2ejxSgfv0A",
        "outputId": "8f9581e9-f69c-4af2-9ef3-a35eaac36e78"
      },
      "outputs": [
        {
          "output_type": "stream",
          "name": "stdout",
          "text": [
            "MediumMagboltz::SetComposition:\n",
            "    Ar/CO2 (90/10)\n"
          ]
        }
      ],
      "source": [
        "# Set up the gas medium.\n",
        "gas = ROOT.Garfield.MediumMagboltz()\n",
        "gas.SetTemperature(293.15)\n",
        "gas.SetPressure(760.)\n",
        "gas.SetComposition(\"ar\", 90., \"co2\", 10.)\n",
        "gas.EnableDrift()"
      ]
    },
    {
      "cell_type": "code",
      "source": [
        "#Electric field [kV / cm].\n",
        "field = 20. \n",
        "#Gas gap [cm]\n",
        "gap = 0.1\n",
        "\n",
        "#Make a drift volume.\n",
        "box = ROOT.Garfield.SolidBox(0, 0, gap, 2, 2, gap)\n",
        "geo = ROOT.Garfield.GeometrySimple()\n",
        "geo.AddSolid(box, gas)\n",
        "\n",
        "#Make a component with constant drift field.\n",
        "cmp = ROOT.Garfield.ComponentConstant()\n",
        "cmp.SetGeometry(geo)\n",
        "cmp.SetElectricField(0, 0, field * 1.e3);\n",
        "\n",
        "#Make a sensor.\n",
        "sensor = ROOT.Garfield.Sensor()\n",
        "sensor.AddComponent(cmp)"
      ],
      "metadata": {
        "id": "eZ6ohoRdhUH5"
      },
      "execution_count": 4,
      "outputs": []
    },
    {
      "cell_type": "code",
      "source": [
        "nBins = 50\n",
        "hElectrons = ROOT.TH1I(\"hElectrons\", \"Number of electrons\", nBins, -0.5, nBins - 0.5);\n",
        "\n",
        "#Microscopic tracking.\n",
        "aval = ROOT.Garfield.AvalancheMicroscopic()\n",
        "aval.SetSensor(sensor)\n",
        "\n",
        "ne = ctypes.c_int()\n",
        "ni = ctypes.c_int()\n",
        "\n",
        "nEvents = 50;\n",
        "for j in range (0,nEvents):\n",
        "  if (j % 10 == 0):\n",
        "    print(j,\"/\",nEvents, end=\"\\n\")\n",
        "  #Initial electron energy [eV].\n",
        "  e0 = 1.;\n",
        "  aval.AvalancheElectron(0, 0, gap, 0, e0, 0, 0, 0);\n",
        "  aval.GetAvalancheSize(ne, ni);\n",
        "  gain = ne.value\n",
        "  print(gain)\n",
        "  hElectrons.Fill(gain)"
      ],
      "metadata": {
        "id": "cp0wln7Xp3Eb",
        "colab": {
          "base_uri": "https://localhost:8080/"
        },
        "outputId": "d43032d0-79ee-4b1f-9aa6-27b5e9b4b295"
      },
      "execution_count": 5,
      "outputs": [
        {
          "output_type": "stream",
          "name": "stdout",
          "text": [
            "0 / 50\n",
            "145\n",
            "320\n",
            "370\n",
            "228\n",
            "57\n",
            "906\n",
            "538\n",
            "381\n",
            "0\n",
            "1641\n",
            "10 / 50\n",
            "161\n",
            "259\n",
            "316\n",
            "232\n",
            "468\n",
            "1115\n",
            "235\n",
            "471\n",
            "2721\n",
            "808\n",
            "20 / 50\n",
            "711\n",
            "1753\n",
            "887\n",
            "1498\n",
            "0\n",
            "1671\n",
            "2663\n",
            "142\n",
            "235\n",
            "29\n",
            "30 / 50\n",
            "496\n",
            "130\n",
            "344\n",
            "1399\n",
            "605\n",
            "817\n",
            "1053\n",
            "721\n",
            "1403\n",
            "312\n",
            "40 / 50\n",
            "998\n",
            "585\n",
            "428\n",
            "261\n",
            "2735\n",
            "2240\n",
            "412\n",
            "620\n",
            "1771\n",
            "474\n",
            "Sensor::SetArea:\n",
            "    -2 < x [cm] < 2\n",
            "    -2 < y [cm] < 2\n",
            "    0 < z [cm] < 0.2\n"
          ]
        }
      ]
    },
    {
      "cell_type": "code",
      "source": [
        "c = ROOT.TCanvas()\n",
        "hElectrons.Draw(\"h\")\n",
        "c.Draw()"
      ],
      "metadata": {
        "colab": {
          "base_uri": "https://localhost:8080/",
          "height": 489
        },
        "id": "EVLt6lT5t1tD",
        "outputId": "131aafa8-5181-4e5c-9ede-64b807143914"
      },
      "execution_count": 6,
      "outputs": [
        {
          "output_type": "display_data",
          "data": {
            "text/plain": [
              "<IPython.core.display.Image object>"
            ],
            "image/png": "[encoded data removed]"
          },
          "metadata": {}
        }
      ]
    },
    {
      "cell_type": "code",
      "source": [
        ""
      ],
      "metadata": {
        "id": "JO1oGn8DurRu"
      },
      "execution_count": 6,
      "outputs": []
    }
  ],
  "metadata": {
    "colab": {
      "collapsed_sections": [],
      "name": "gain_calculation.ipynb",
      "provenance": [],
      "toc_visible": true
    },
    "kernelspec": {
      "display_name": "Python 3",
      "language": "python",
      "name": "python3"
    },
    "language_info": {
      "codemirror_mode": {
        "name": "ipython",
        "version": 3
      },
      "file_extension": ".py",
      "mimetype": "text/x-python",
      "name": "python",
      "nbconvert_exporter": "python",
      "pygments_lexer": "ipython3",
      "version": "3.7.9"
    }
  },
  "nbformat": 4,
  "nbformat_minor": 0
}