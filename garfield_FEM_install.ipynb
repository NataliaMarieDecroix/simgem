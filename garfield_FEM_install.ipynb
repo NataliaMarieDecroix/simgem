{
 "cells": [
  {
   "cell_type": "markdown",
   "metadata": {
    "id": "GLnhSvitLuZF"
   },
   "source": [
    "# Preparing the environment for running Garfield++ on Colab"
   ]
  },
  {
   "cell_type": "markdown",
   "metadata": {
    "id": "WgSIAEoSP-fm"
   },
   "source": [
    "This notebook shows how to install the necessary programs to create finite element field maps and import them to Garfield++ on Colab."
   ]
  },
  {
   "cell_type": "code",
   "execution_count": 1,
   "metadata": {
    "colab": {
     "base_uri": "https://localhost:8080/",
     "height": 221
    },
    "executionInfo": {
     "elapsed": 1167,
     "status": "ok",
     "timestamp": 1602690877390,
     "user": {
      "displayName": "Josh Renner",
      "photoUrl": "",
      "userId": "09612637501161683332"
     },
     "user_tz": -120
    },
    "id": "58UUGU_DOJzt",
    "outputId": "3d53ea60-a550-4619-e53f-ca5de22a823f"
   },
   "outputs": [
    {
     "name": "stdout",
     "output_type": "stream",
     "text": [
      "NAME=\"Ubuntu\"\n",
      "VERSION=\"18.04.5 LTS (Bionic Beaver)\"\n",
      "ID=ubuntu\n",
      "ID_LIKE=debian\n",
      "PRETTY_NAME=\"Ubuntu 18.04.5 LTS\"\n",
      "VERSION_ID=\"18.04\"\n",
      "HOME_URL=\"https://www.ubuntu.com/\"\n",
      "SUPPORT_URL=\"https://help.ubuntu.com/\"\n",
      "BUG_REPORT_URL=\"https://bugs.launchpad.net/ubuntu/\"\n",
      "PRIVACY_POLICY_URL=\"https://www.ubuntu.com/legal/terms-and-policies/privacy-policy\"\n",
      "VERSION_CODENAME=bionic\n",
      "UBUNTU_CODENAME=bionic\n"
     ]
    }
   ],
   "source": [
    "!cat /etc/os-release"
   ]
  },
  {
   "cell_type": "markdown",
   "metadata": {
    "id": "rcVQR8hrLo7A"
   },
   "source": [
    "# ROOT installation"
   ]
  },
  {
   "cell_type": "markdown",
   "metadata": {
    "id": "UmQyn782OUYC"
   },
   "source": [
    "Note that here it is important to provide the correct Python executable and library so that the Python components are compiled for the Python3 version installed on Colab. This is done using the flags for example `-DPYTHON_EXECUTABLE` when running `cmake`"
   ]
  },
  {
   "cell_type": "code",
   "execution_count": null,
   "metadata": {
    "colab": {
     "base_uri": "https://localhost:8080/"
    },
    "executionInfo": {
     "elapsed": 20559,
     "status": "ok",
     "timestamp": 1602703135417,
     "user": {
      "displayName": "Josh Renner",
      "photoUrl": "",
      "userId": "09612637501161683332"
     },
     "user_tz": -120
    },
    "id": "x1G_qZihOVUa",
    "outputId": "fef936ad-653d-4d90-c432-eb3b04d64c12"
   },
   "outputs": [],
   "source": [
    "!apt-get install libxpm-dev\n",
    "!wget https://root.cern/download/root_v6.22.02.source.tar.gz\n",
    "!mkdir root\n",
    "!mv root_v6.22.02.source.tar.gz root\n",
    "!cd root && tar -xvf root_v6.22.02.source.tar.gz\n",
    "!cd root && mkdir build\n",
    "!export LD_LIBRARY_PATH=/usr/lib/x86_64-linux-gnu:/content/root/install/lib:$LD_LIBRARY_PATH\n",
    "!cd root/build && cmake -Dpython3=ON -DPYTHON_EXECUTABLE=/usr/bin/python3 -DPYTHON_LIBRARY=/usr/lib/x86_64-linux-gnu/libpython3.6m.so -DPYTHON_INCLUDE_DIR=/usr/include/python3.6m -DCMAKE_INSTALL_PREFIX=`pwd`/../install ../root-6.22.02\n",
    "!cd root/build && make -j 2\n",
    "!cd root/build && make install\n",
    "\n",
    "# To double-check ROOT configuration options:\n",
    "!cd root/build && cat ROOTConfig.cmake"
   ]
  },
  {
   "cell_type": "markdown",
   "metadata": {
    "id": "6PATcLs1OvaQ"
   },
   "source": [
    "Confirm that this worked by loading relevant libraries and importing `ROOT`"
   ]
  },
  {
   "cell_type": "code",
   "execution_count": 3,
   "metadata": {
    "colab": {
     "base_uri": "https://localhost:8080/",
     "height": 34
    },
    "executionInfo": {
     "elapsed": 2289,
     "status": "ok",
     "timestamp": 1602715963431,
     "user": {
      "displayName": "Josh Renner",
      "photoUrl": "",
      "userId": "09612637501161683332"
     },
     "user_tz": -120
    },
    "id": "L6GXfnEZEgND",
    "outputId": "2cc4e8a3-7bff-4f13-e9a4-92ff38284d24"
   },
   "outputs": [
    {
     "name": "stdout",
     "output_type": "stream",
     "text": [
      "Welcome to JupyROOT 6.22/02\n"
     ]
    }
   ],
   "source": [
    "import sys\n",
    "sys.path.append(\"/content/root/install/lib\")\n",
    "import ctypes\n",
    "ctypes.cdll.LoadLibrary('/content/root/install/lib/libCore.so')\n",
    "ctypes.cdll.LoadLibrary('/content/root/install/lib/libThread.so')\n",
    "ctypes.cdll.LoadLibrary('/content/root/install/lib/libtbb.so.2')\n",
    "ctypes.cdll.LoadLibrary('/content/root/install/lib/libImt.so')\n",
    "ctypes.cdll.LoadLibrary('/content/root/install/lib/libRIO.so')\n",
    "ctypes.cdll.LoadLibrary('/content/root/install/lib/libNet.so')\n",
    "ctypes.cdll.LoadLibrary('/content/root/install/lib/libTree.so')\n",
    "ctypes.cdll.LoadLibrary('/content/root/install/lib/libMathCore.so')\n",
    "ctypes.cdll.LoadLibrary('/content/root/install/lib/libMatrix.so')\n",
    "ctypes.cdll.LoadLibrary('/content/root/install/lib/libHist.so')\n",
    "ctypes.cdll.LoadLibrary('/content/root/install/lib/libGeom.so')\n",
    "ctypes.cdll.LoadLibrary('/content/root/install/lib/libXMLIO.so')\n",
    "ctypes.cdll.LoadLibrary('/content/root/install/lib/libGdml.so')\n",
    "ctypes.cdll.LoadLibrary('/content/root/install/lib/libGraf.so')\n",
    "ctypes.cdll.LoadLibrary('/content/root/install/lib/libGpad.so')\n",
    "ctypes.cdll.LoadLibrary('/content/root/install/lib/libGraf3d.so')\n",
    "ctypes.cdll.LoadLibrary('/content/root/install/lib/libcppyy_backend3_6.so')\n",
    "\n",
    "import ROOT"
   ]
  },
  {
   "cell_type": "markdown",
   "metadata": {
    "id": "knAYPVuiFmOm"
   },
   "source": [
    "## Garfield++ installation"
   ]
  },
  {
   "cell_type": "code",
   "execution_count": 4,
   "metadata": {
    "colab": {
     "base_uri": "https://localhost:8080/",
     "height": 136
    },
    "executionInfo": {
     "elapsed": 9037,
     "status": "ok",
     "timestamp": 1602715975433,
     "user": {
      "displayName": "Josh Renner",
      "photoUrl": "",
      "userId": "09612637501161683332"
     },
     "user_tz": -120
    },
    "id": "73E60WPiF6R4",
    "outputId": "d4d09ab8-eed5-4562-bad1-1933e487696a"
   },
   "outputs": [
    {
     "name": "stdout",
     "output_type": "stream",
     "text": [
      "Cloning into 'garfieldpp'...\n",
      "remote: Enumerating objects: 261, done.\u001b[K\n",
      "remote: Counting objects: 100% (261/261), done.\u001b[K\n",
      "remote: Compressing objects: 100% (136/136), done.\u001b[K\n",
      "remote: Total 12187 (delta 132), reused 215 (delta 112), pack-reused 11926\u001b[K\n",
      "Receiving objects: 100% (12187/12187), 58.19 MiB | 14.45 MiB/s, done.\n",
      "Resolving deltas: 100% (8852/8852), done.\n"
     ]
    }
   ],
   "source": [
    "!git clone https://gitlab.cern.ch/garfield/garfieldpp.git\n",
    "!apt-get install libgsl-dev"
   ]
  },
  {
   "cell_type": "code",
   "execution_count": null,
   "metadata": {
    "colab": {
     "base_uri": "https://localhost:8080/",
     "height": 1000
    },
    "executionInfo": {
     "elapsed": 100512,
     "status": "ok",
     "timestamp": 1602717104417,
     "user": {
      "displayName": "Josh Renner",
      "photoUrl": "",
      "userId": "09612637501161683332"
     },
     "user_tz": -120
    },
    "id": "4oM4ypXmGHvA",
    "outputId": "fd3c83bd-356c-43ba-ce2c-6de623302283"
   },
   "outputs": [],
   "source": [
    "#!mkdir garfield\n",
    "#!mv garfieldpp garfield\n",
    "!mkdir garfield/build\n",
    "!export ROOTSYS=\"/content/root/install\"\n",
    "!export PATH=\"$ROOTSYS/bin:$PATH\"\n",
    "!export LD_LIBRARY_PATH=\"$ROOTSYS/lib:$LD_LIBRARY_PATH\"\n",
    "!cd garfield/build && cmake -DWITH_EXAMPLES=OFF -DPYTHON_EXECUTABLE=/usr/bin/python3 -DPYTHON_LIBRARY=/usr/lib/x86_64-linux-gnu/libpython3.6m.so -DPYTHON_INCLUDE_DIR=/usr/include/python3.6m -DCMAKE_INSTALL_PREFIX=`pwd`/../install ../garfieldpp\n",
    "!cd garfield/build && make -j 2\n",
    "!cd garfield/build && make install"
   ]
  },
  {
   "cell_type": "markdown",
   "metadata": {
    "id": "HVot7_tnPPpU"
   },
   "source": [
    "Confirm that this worked by loading the Garfield shared library with `ROOT`. Note that `GARFIELD_HOME` must be set or there will be an error locating the HEED database."
   ]
  },
  {
   "cell_type": "code",
   "execution_count": 29,
   "metadata": {
    "colab": {
     "base_uri": "https://localhost:8080/",
     "height": 51
    },
    "executionInfo": {
     "elapsed": 771,
     "status": "ok",
     "timestamp": 1602717847059,
     "user": {
      "displayName": "Josh Renner",
      "photoUrl": "",
      "userId": "09612637501161683332"
     },
     "user_tz": -120
    },
    "id": "bRQOUTSdJQz-",
    "outputId": "ef7a930d-c2a0-4cdb-ff24-6f5abef2b7b0"
   },
   "outputs": [
    {
     "data": {
      "text/plain": [
       "0"
      ]
     },
     "execution_count": 29,
     "metadata": {
      "tags": []
     },
     "output_type": "execute_result"
    },
    {
     "name": "stdout",
     "output_type": "stream",
     "text": [
      "Heed:\n",
      "    Database path: /content/garfield/garfieldpp/Heed/heed++/database\n"
     ]
    }
   ],
   "source": [
    "import os\n",
    "os.environ[\"GARFIELD_HOME\"] = \"/content/garfield/garfieldpp\"\n",
    "ROOT.gSystem.Load(\"/content/garfield/install/lib/libGarfield.so\")"
   ]
  },
  {
   "cell_type": "markdown",
   "metadata": {
    "id": "mdY92va_L9s0"
   },
   "source": [
    "## Gmsh installation"
   ]
  },
  {
   "cell_type": "markdown",
   "metadata": {
    "id": "__imrs6wPjIU"
   },
   "source": [
    "Here we download the binary directly"
   ]
  },
  {
   "cell_type": "code",
   "execution_count": 30,
   "metadata": {
    "colab": {
     "base_uri": "https://localhost:8080/",
     "height": 204
    },
    "executionInfo": {
     "elapsed": 4681,
     "status": "ok",
     "timestamp": 1602717855497,
     "user": {
      "displayName": "Josh Renner",
      "photoUrl": "",
      "userId": "09612637501161683332"
     },
     "user_tz": -120
    },
    "id": "UBpB3vUbTV4I",
    "outputId": "1d086c62-5416-447c-cc0b-c750db3ecbfc"
   },
   "outputs": [
    {
     "name": "stdout",
     "output_type": "stream",
     "text": [
      "--2020-10-14 23:24:13--  https://gmsh.info/bin/Linux/gmsh-4.5.6-Linux64.tgz\n",
      "Resolving gmsh.info (gmsh.info)... 139.165.160.20\n",
      "Connecting to gmsh.info (gmsh.info)|139.165.160.20|:443... connected.\n",
      "HTTP request sent, awaiting response... 200 OK\n",
      "Length: 30814702 (29M) [application/x-gzip]\n",
      "Saving to: ‘gmsh-4.5.6-Linux64.tgz’\n",
      "\n",
      "gmsh-4.5.6-Linux64. 100%[===================>]  29.39M  9.26MB/s    in 3.4s    \n",
      "\n",
      "2020-10-14 23:24:17 (8.73 MB/s) - ‘gmsh-4.5.6-Linux64.tgz’ saved [30814702/30814702]\n",
      "\n"
     ]
    }
   ],
   "source": [
    "!wget https://gmsh.info/bin/Linux/gmsh-4.5.6-Linux64.tgz"
   ]
  },
  {
   "cell_type": "markdown",
   "metadata": {
    "id": "ZS5KTDldPn7I"
   },
   "source": [
    "And un-tar it"
   ]
  },
  {
   "cell_type": "code",
   "execution_count": null,
   "metadata": {
    "colab": {
     "base_uri": "https://localhost:8080/",
     "height": 1000
    },
    "executionInfo": {
     "elapsed": 1865,
     "status": "ok",
     "timestamp": 1602717866255,
     "user": {
      "displayName": "Josh Renner",
      "photoUrl": "",
      "userId": "09612637501161683332"
     },
     "user_tz": -120
    },
    "id": "7dfCUauWiLhG",
    "outputId": "8faeb53e-c87e-4d3a-ac8f-7d7520be8735"
   },
   "outputs": [],
   "source": [
    "!tar -xvf gmsh-4.5.6-Linux64.tgz\n",
    "!mv gmsh-4.5.6-Linux64 gmsh"
   ]
  },
  {
   "cell_type": "markdown",
   "metadata": {
    "id": "15Kajuc0Pp8H"
   },
   "source": [
    "Check to make sure it runs"
   ]
  },
  {
   "cell_type": "code",
   "execution_count": 32,
   "metadata": {
    "colab": {
     "base_uri": "https://localhost:8080/",
     "height": 34
    },
    "executionInfo": {
     "elapsed": 613,
     "status": "ok",
     "timestamp": 1602717871235,
     "user": {
      "displayName": "Josh Renner",
      "photoUrl": "",
      "userId": "09612637501161683332"
     },
     "user_tz": -120
    },
    "id": "L5ujC1xxjZSx",
    "outputId": "6210e22b-d59e-4bc0-ed81-9d763df33a4a"
   },
   "outputs": [
    {
     "name": "stdout",
     "output_type": "stream",
     "text": [
      "4.5.6\n"
     ]
    }
   ],
   "source": [
    "!./gmsh/bin/gmsh -version"
   ]
  },
  {
   "cell_type": "markdown",
   "metadata": {
    "id": "OJdmyoNsg_Q9"
   },
   "source": [
    "## Elmer installation\n",
    "Be sure to compile with MPI off, or the program tends to crash at the very end of execution."
   ]
  },
  {
   "cell_type": "code",
   "execution_count": null,
   "metadata": {
    "colab": {
     "base_uri": "https://localhost:8080/",
     "height": 1000
    },
    "executionInfo": {
     "elapsed": 637926,
     "status": "ok",
     "timestamp": 1602718511138,
     "user": {
      "displayName": "Josh Renner",
      "photoUrl": "",
      "userId": "09612637501161683332"
     },
     "user_tz": -120
    },
    "id": "IiGOpLcGhAiI",
    "outputId": "ab8d6efc-0281-4ae8-81d1-bb06af4b2add"
   },
   "outputs": [],
   "source": [
    "!apt-get install libblas-dev\n",
    "!mkdir elmer\n",
    "!cd elmer && git clone https://github.com/ElmerCSC/elmerfem.git\n",
    "!cd elmer && mkdir build\n",
    "!cd elmer/build && cmake -DWITH_MPI:BOOLEAN=FALSE -DCMAKE_INSTALL_PREFIX=`pwd`/../install ../elmerfem\n",
    "!cd elmer/build && make\n",
    "!cd elmer/build && make install"
   ]
  },
  {
   "cell_type": "markdown",
   "metadata": {
    "id": "fsl2h1T_Px92"
   },
   "source": [
    "Try running an Elmer executable to make sure it worked"
   ]
  },
  {
   "cell_type": "code",
   "execution_count": 34,
   "metadata": {
    "colab": {
     "base_uri": "https://localhost:8080/",
     "height": 255
    },
    "executionInfo": {
     "elapsed": 598,
     "status": "ok",
     "timestamp": 1602718556693,
     "user": {
      "displayName": "Josh Renner",
      "photoUrl": "",
      "userId": "09612637501161683332"
     },
     "user_tz": -120
    },
    "id": "rayz8_6JiZqA",
    "outputId": "549df619-2501-4329-c682-b0aa621d6872"
   },
   "outputs": [
    {
     "name": "stdout",
     "output_type": "stream",
     "text": [
      "ELMER SOLVER (v 8.4) STARTED AT: 2020/10/14 23:35:58\n",
      "ParCommInit:  Initialize #PEs:            1\n",
      "MAIN: \n",
      "MAIN: =============================================================\n",
      "MAIN: ElmerSolver finite element software, Welcome!\n",
      "MAIN: This program is free software licensed under (L)GPL\n",
      "MAIN: Copyright 1st April 1995 - , CSC - IT Center for Science Ltd.\n",
      "MAIN: Webpage http://www.csc.fi/elmer, Email elmeradm@csc.fi\n",
      "MAIN: Version: 8.4 (Rev: 6a6d25a1, Compiled: 2020-10-14)\n",
      "MAIN:  Running one task without MPI parallelization.\n",
      "MAIN:  Running with just one thread per task.\n",
      "MAIN: =============================================================\n",
      "ERROR:: ElmerSolver: Unable to find ELMERSOLVER_STARTINFO, can not execute.\n",
      "STOP 1\n"
     ]
    }
   ],
   "source": [
    "os.environ[\"PATH\"] += \":/content/elmer/install/bin\"\n",
    "!ElmerSolver"
   ]
  },
  {
   "cell_type": "markdown",
   "metadata": {
    "id": "-978VpYvkJ_H"
   },
   "source": [
    "## Save binaries for faster setup"
   ]
  },
  {
   "cell_type": "code",
   "execution_count": null,
   "metadata": {
    "colab": {
     "base_uri": "https://localhost:8080/",
     "height": 1000
    },
    "executionInfo": {
     "elapsed": 57020,
     "status": "ok",
     "timestamp": 1602718658486,
     "user": {
      "displayName": "Josh Renner",
      "photoUrl": "",
      "userId": "09612637501161683332"
     },
     "user_tz": -120
    },
    "id": "Xrr2YSGXkMFx",
    "outputId": "d8949c0f-dc39-47d7-826b-3c9ffb0a040a"
   },
   "outputs": [],
   "source": [
    "!tar -czvf environ.tar.gz elmer/install root/install garfield/install garfield/garfieldpp gmsh/bin"
   ]
  },
  {
   "cell_type": "code",
   "execution_count": 36,
   "metadata": {
    "colab": {
     "base_uri": "https://localhost:8080/",
     "height": 34
    },
    "executionInfo": {
     "elapsed": 1767,
     "status": "ok",
     "timestamp": 1602718687015,
     "user": {
      "displayName": "Josh Renner",
      "photoUrl": "",
      "userId": "09612637501161683332"
     },
     "user_tz": -120
    },
    "id": "ypF3yOHY2P-o",
    "outputId": "f08e6f2f-8f72-4426-c432-03c5f5aa4aaf"
   },
   "outputs": [
    {
     "name": "stdout",
     "output_type": "stream",
     "text": [
      "-rw-r--r-- 1 root root 380469033 Oct 14 23:37 environ.tar.gz\n"
     ]
    }
   ],
   "source": [
    "!ls -l environ.tar.gz"
   ]
  },
  {
   "cell_type": "code",
   "execution_count": null,
   "metadata": {
    "id": "v1X3ksxNOx83"
   },
   "outputs": [],
   "source": []
  }
 ],
 "metadata": {
  "colab": {
   "authorship_tag": "ABX9TyN4u39UD64YyQj/f3vE+1Ap",
   "collapsed_sections": [],
   "name": "garfield_FEM_install_updated.ipynb",
   "provenance": [
    {
     "file_id": "https://github.com/jerenner/garfieldfem/blob/master/garfield_FEM_install.ipynb",
     "timestamp": 1602601143589
    }
   ],
   "toc_visible": true
  },
  "kernelspec": {
   "display_name": "Python 3",
   "language": "python",
   "name": "python3"
  },
  "language_info": {
   "codemirror_mode": {
    "name": "ipython",
    "version": 3
   },
   "file_extension": ".py",
   "mimetype": "text/x-python",
   "name": "python",
   "nbconvert_exporter": "python",
   "pygments_lexer": "ipython3",
   "version": "3.7.9"
  }
 },
 "nbformat": 4,
 "nbformat_minor": 1
}
