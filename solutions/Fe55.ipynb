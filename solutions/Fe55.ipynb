{
  "cells": [
    {
      "cell_type": "markdown",
      "metadata": {
        "id": "M7WgYp-iHw4b"
      },
      "source": [
        "# Set up the environment\n",
        "The software we will use includes:\n",
        "- Gmsh -- https://gmsh.info: for defining our detector geometry and creating a finite element mesh\n",
        "- Elmer -- http://www.elmerfem.org: for solving for the electrostatic fields\n",
        "- ROOT -- https://root.cern.ch: a prerequisite for Garfield++ (with Python enabled). Note that for this example a version of ROOT has been compiled with Python 3.\n",
        "- Garfield++ -- https://garfieldpp.web.cern.ch/garfieldpp: for detector simulation\n",
        "\n",
        "The entire development environment has already been prepared to run the code in this notebook on Google Colab and will be downloaded directly below. This setup is documented in another notebook:\n",
        "\n",
        "https://colab.research.google.com/github/jerenner/garfieldfem/blob/master/garfield_FEM_install.ipynb\n",
        "\n",
        "It can be followed to perform a similar installation on a local machine."
      ]
    },
    {
      "cell_type": "markdown",
      "source": [
        "**Get the pre-compiled binaries and setup environment**"
      ],
      "metadata": {
        "id": "ZeKEaFikkiq-"
      }
    },
    {
      "cell_type": "code",
      "source": [
        "!wget -q https://raw.githubusercontent.com/swieca22/swieca22/master/setup.py\n",
        "import setup\n",
        "setup.install_packages()"
      ],
      "metadata": {
        "id": "puPLbU-wkdWY",
        "outputId": "7013410b-4b65-4277-f79d-69b8561f9d76",
        "colab": {
          "base_uri": "https://localhost:8080/"
        }
      },
      "execution_count": 1,
      "outputs": [
        {
          "output_type": "stream",
          "name": "stdout",
          "text": [
            "Downloading binaries...\n",
            "Unpacking...\n",
            "Installing dependencies....\n",
            "Welcome to JupyROOT 6.22/08\n"
          ]
        }
      ]
    },
    {
      "cell_type": "code",
      "source": [
        "import ROOT\n",
        "import ctypes"
      ],
      "metadata": {
        "id": "4bQTwyI7kp9E"
      },
      "execution_count": 9,
      "outputs": []
    },
    {
      "cell_type": "code",
      "execution_count": 10,
      "metadata": {
        "colab": {
          "base_uri": "https://localhost:8080/"
        },
        "id": "7B2ejxSgfv0A",
        "outputId": "bda73873-bd3d-405f-8282-b644df43411d"
      },
      "outputs": [
        {
          "output_type": "stream",
          "name": "stdout",
          "text": [
            "MediumMagboltz::SetComposition:\n",
            "    Ar/CO2 (70/30)\n"
          ]
        }
      ],
      "source": [
        "# Set up the gas medium.\n",
        "gas = ROOT.Garfield.MediumMagboltz()\n",
        "gas.SetTemperature(293.15)\n",
        "gas.SetPressure(740.)\n",
        "gas.SetComposition(\"ar\", 70., \"co2\", 30.)\n",
        "gas.EnableDrift()"
      ]
    },
    {
      "cell_type": "code",
      "source": [
        " #Create a cylinder in which the x-rays can convert. Diameter [cm]\n",
        "diameter = 7.8;\n",
        "\n",
        "#Half-length of the cylinder [cm].\n",
        "\n",
        "length = 10.;\n",
        "\n",
        "tube = ROOT.Garfield.SolidTube(0, 0, 0, 0.5 * diameter, length);\n",
        "\n",
        "#Combine gas and box to a simple geometry.\n",
        "geo = ROOT.Garfield.GeometrySimple();\n",
        "geo.AddSolid(tube, gas);"
      ],
      "metadata": {
        "id": "eZ6ohoRdhUH5"
      },
      "execution_count": 11,
      "outputs": []
    },
    {
      "cell_type": "code",
      "source": [
        " #Make a component with constant electric field.\n",
        " field = ROOT.Garfield.ComponentConstant();\n",
        " field.SetGeometry(geo);\n",
        " field.SetElectricField(0., 0., 500.); "
      ],
      "metadata": {
        "id": "bJJX8zLFhncz"
      },
      "execution_count": 12,
      "outputs": []
    },
    {
      "cell_type": "code",
      "source": [
        "#Make a sensor.\n",
        "sensor = ROOT.Garfield.Sensor();\n",
        "sensor.AddComponent(field);"
      ],
      "metadata": {
        "id": "99lOFZC-i-iY"
      },
      "execution_count": 13,
      "outputs": []
    },
    {
      "cell_type": "code",
      "source": [
        "#Use Heed for simulating the photon absorption.\n",
        "track = ROOT.Garfield.TrackHeed();\n",
        "track.SetSensor(sensor);\n",
        "track.EnableElectricField();"
      ],
      "metadata": {
        "id": "ccOZFQfCjSf8"
      },
      "execution_count": 14,
      "outputs": []
    },
    {
      "cell_type": "code",
      "source": [
        "#Histogram\n",
        "nBins = 500;\n",
        "hElectrons = ROOT.TH1I(\"hElectrons\", \"Number of electrons\", nBins, -0.5, nBins - 0.5);\n",
        "nEvents = 100000;\n",
        "for i in range(1, nEvents):\n",
        "    if (i % 1000 == 0):\n",
        "      print(i,\"/\",nEvents, end=\"\\n\")\n",
        "    #Initial coordinates of the photon.\n",
        "    x0 = 0;\n",
        "    y0 = 0;\n",
        "    z0 = 0;\n",
        "    t0 = 0;\n",
        "    #Sample the photon energy, using the relative intensities according to XDB.\n",
        "    r = 167. * ROOT.Garfield.RndmUniform();\n",
        "    if (r<100):\n",
        "      egamma = 5898.8\n",
        "    elif (r>=100 and r< 150):\n",
        "      egamma = 5887.6\n",
        "    else:\n",
        "      egamma = 6490.4; \n",
        "    # Get the number of electrons in the avalanche.\n",
        "    ne = ctypes.c_int()\n",
        "    ni = ctypes.c_int()\n",
        "    track.TransportPhoton(x0, y0, z0, t0, egamma, 0., 0., 1., ne, ni);\n",
        "    gain = ne.value\n",
        "    hElectrons.Fill(gain)\n"
      ],
      "metadata": {
        "colab": {
          "base_uri": "https://localhost:8080/"
        },
        "id": "JJJLhjzTj4_z",
        "outputId": "e8db1c31-8109-45b6-b031-471a8d03d3d6"
      },
      "execution_count": 15,
      "outputs": [
        {
          "output_type": "stream",
          "name": "stdout",
          "text": [
            "1000 / 100000\n",
            "2000 / 100000\n",
            "3000 / 100000\n",
            "4000 / 100000\n",
            "5000 / 100000\n",
            "6000 / 100000\n",
            "7000 / 100000\n",
            "8000 / 100000\n",
            "9000 / 100000\n",
            "10000 / 100000\n",
            "11000 / 100000\n",
            "12000 / 100000\n",
            "13000 / 100000\n",
            "14000 / 100000\n",
            "15000 / 100000\n",
            "16000 / 100000\n",
            "17000 / 100000\n",
            "18000 / 100000\n",
            "19000 / 100000\n",
            "20000 / 100000\n",
            "21000 / 100000\n",
            "22000 / 100000\n",
            "23000 / 100000\n",
            "24000 / 100000\n",
            "25000 / 100000\n",
            "26000 / 100000\n",
            "27000 / 100000\n",
            "28000 / 100000\n",
            "29000 / 100000\n",
            "30000 / 100000\n",
            "31000 / 100000\n",
            "32000 / 100000\n",
            "33000 / 100000\n",
            "34000 / 100000\n",
            "35000 / 100000\n",
            "36000 / 100000\n",
            "37000 / 100000\n",
            "38000 / 100000\n",
            "39000 / 100000\n",
            "40000 / 100000\n",
            "41000 / 100000\n",
            "42000 / 100000\n",
            "43000 / 100000\n",
            "44000 / 100000\n",
            "45000 / 100000\n",
            "46000 / 100000\n",
            "47000 / 100000\n",
            "48000 / 100000\n",
            "49000 / 100000\n",
            "50000 / 100000\n",
            "51000 / 100000\n",
            "52000 / 100000\n",
            "53000 / 100000\n",
            "54000 / 100000\n",
            "55000 / 100000\n",
            "56000 / 100000\n",
            "57000 / 100000\n",
            "58000 / 100000\n",
            "59000 / 100000\n",
            "60000 / 100000\n",
            "61000 / 100000\n",
            "62000 / 100000\n",
            "63000 / 100000\n",
            "64000 / 100000\n",
            "65000 / 100000\n",
            "66000 / 100000\n",
            "67000 / 100000\n",
            "68000 / 100000\n",
            "69000 / 100000\n",
            "70000 / 100000\n",
            "71000 / 100000\n",
            "72000 / 100000\n",
            "73000 / 100000\n",
            "74000 / 100000\n",
            "75000 / 100000\n",
            "76000 / 100000\n",
            "77000 / 100000\n",
            "78000 / 100000\n",
            "79000 / 100000\n",
            "80000 / 100000\n",
            "81000 / 100000\n",
            "82000 / 100000\n",
            "83000 / 100000\n",
            "84000 / 100000\n",
            "85000 / 100000\n",
            "86000 / 100000\n",
            "87000 / 100000\n",
            "88000 / 100000\n",
            "89000 / 100000\n",
            "90000 / 100000\n",
            "91000 / 100000\n",
            "92000 / 100000\n",
            "93000 / 100000\n",
            "94000 / 100000\n",
            "95000 / 100000\n",
            "96000 / 100000\n",
            "97000 / 100000\n",
            "98000 / 100000\n",
            "99000 / 100000\n",
            "Sensor::SetArea:\n",
            "    -3.9 < x [cm] < 3.9\n",
            "    -3.9 < y [cm] < 3.9\n",
            "    -10 < z [cm] < 10\n"
          ]
        },
        {
          "output_type": "stream",
          "name": "stderr",
          "text": [
            "Warning in <TROOT::Append>: Replacing existing TH1: hElectrons (Potential memory leak).\n"
          ]
        }
      ]
    },
    {
      "cell_type": "code",
      "source": [
        "c = ROOT.TCanvas()\n",
        "hElectrons.Draw(\"h\")\n",
        "c.Draw()"
      ],
      "metadata": {
        "colab": {
          "base_uri": "https://localhost:8080/",
          "height": 489
        },
        "id": "VJWsocMHk244",
        "outputId": "138e22ee-3d3c-445c-c72d-bbf6e2a194a6"
      },
      "execution_count": 16,
      "outputs": [
        {
          "output_type": "display_data",
          "data": {
            "text/plain": [
              "<IPython.core.display.Image object>"
            ],
            "image/png": "[encoded data removed]"
          },
          "metadata": {}
        }
      ]
    },
    {
      "cell_type": "code",
      "source": [
        ""
      ],
      "metadata": {
        "id": "nlRA0ds_shRS"
      },
      "execution_count": 16,
      "outputs": []
    }
  ],
  "metadata": {
    "colab": {
      "collapsed_sections": [
        "GLnhSvitLuZF"
      ],
      "name": "Fe55.ipynb",
      "provenance": [],
      "toc_visible": true
    },
    "kernelspec": {
      "display_name": "Python 3",
      "language": "python",
      "name": "python3"
    },
    "language_info": {
      "codemirror_mode": {
        "name": "ipython",
        "version": 3
      },
      "file_extension": ".py",
      "mimetype": "text/x-python",
      "name": "python",
      "nbconvert_exporter": "python",
      "pygments_lexer": "ipython3",
      "version": "3.7.9"
    }
  },
  "nbformat": 4,
  "nbformat_minor": 0
}