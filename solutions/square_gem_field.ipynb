{
  "cells": [
    {
      "cell_type": "markdown",
      "metadata": {
        "id": "gZmY7lO9K8DS"
      },
      "source": [
        "**Get the pre-compiled binaries and setup environment**"
      ]
    },
    {
      "cell_type": "code",
      "execution_count": 1,
      "metadata": {
        "colab": {
          "base_uri": "https://localhost:8080/"
        },
        "id": "40_k2_UFK006",
        "outputId": "a0db6e82-dda7-4355-ebc1-ffd4ebbc9cb7"
      },
      "outputs": [
        {
          "name": "stdout",
          "output_type": "stream",
          "text": [
            "Loading libs... ✔️\n",
            "Welcome to JupyROOT 6.22/08\n",
            "All done! 🚀\n"
          ]
        }
      ],
      "source": [
        "!wget -q -O setup.py https://raw.githubusercontent.com/swieca22/swieca22/master/setup.py\n",
        "import setup\n",
        "setup.install_packages()"
      ]
    },
    {
      "cell_type": "markdown",
      "metadata": {
        "id": "Eef0QYqYyDcP"
      },
      "source": [
        "## Generating mesh with gmsh"
      ]
    },
    {
      "cell_type": "code",
      "execution_count": 2,
      "metadata": {
        "id": "8G5a19qqw4YR"
      },
      "outputs": [],
      "source": [
        "import numpy as np\n",
        "import gmsh\n",
        "\n",
        "occ = gmsh.model.occ\n",
        "gmsh.initialize()"
      ]
    },
    {
      "cell_type": "code",
      "execution_count": 3,
      "metadata": {
        "id": "zzMQQVyqiNam"
      },
      "outputs": [],
      "source": [
        "# Lenght in cm\n",
        "pitch = 140e-4\n",
        "hole_diameter = 70e-4\n",
        "conductor_thickness = 5e-4\n",
        "dielectric_thickness = 50e-4"
      ]
    },
    {
      "cell_type": "code",
      "execution_count": 4,
      "metadata": {
        "id": "k55jGDpleyR6"
      },
      "outputs": [],
      "source": [
        "# Create dielectric box\n",
        "\n",
        "dielectric_origin = [-pitch/2, -pitch/2, -dielectric_thickness/2]\n",
        "dielectric_size = [pitch, pitch, dielectric_thickness]\n",
        "\n",
        "dielectric_id = occ.addBox(dielectric_origin[0], dielectric_origin[1], dielectric_origin[2],\n",
        "                       dielectric_size[0], dielectric_size[1], dielectric_size[2])"
      ]
    },
    {
      "cell_type": "code",
      "execution_count": 5,
      "metadata": {
        "id": "ZvwOZtHHdgm3"
      },
      "outputs": [],
      "source": [
        "# Create conductor box\n",
        "\n",
        "detector_thickness = conductor_thickness + dielectric_thickness\n",
        "conductor_origin = [-pitch/2, -pitch/2, -detector_thickness/2]\n",
        "conductor_size = [pitch, pitch, detector_thickness]\n",
        "\n",
        "conductor_id = occ.addBox(conductor_origin[0], conductor_origin[1], conductor_origin[2],\n",
        "                       conductor_size[0], conductor_size[1], conductor_size[2])"
      ]
    },
    {
      "cell_type": "code",
      "execution_count": 6,
      "metadata": {
        "id": "GYMAzsMaexhG"
      },
      "outputs": [],
      "source": [
        "# Create hole volume\n",
        "hole_origin = [0, 0, -detector_thickness/2]\n",
        "hole_length = [0, 0, detector_thickness]\n",
        "hole_id = occ.addCylinder(hole_origin[0], hole_origin[1], hole_origin[2],\n",
        "                       hole_length[0], hole_length[1], hole_length[2],\n",
        "                       hole_diameter/2)"
      ]
    },
    {
      "cell_type": "code",
      "execution_count": 7,
      "metadata": {
        "colab": {
          "base_uri": "https://localhost:8080/"
        },
        "id": "66cRjH-wf-Fm",
        "outputId": "9b1e4205-6301-46ea-9bd9-27908eadeb63"
      },
      "outputs": [
        {
          "data": {
            "text/plain": [
              "[(3, 4), (3, 5)]"
            ]
          },
          "execution_count": 7,
          "metadata": {},
          "output_type": "execute_result"
        }
      ],
      "source": [
        "# Cut conductor box using dielectric volume\n",
        "\n",
        "conductor_tags = occ.cut([(3, conductor_id)], [(3, dielectric_id)], removeTool=False)[0]\n",
        "conductor_tags"
      ]
    },
    {
      "cell_type": "code",
      "execution_count": 8,
      "metadata": {
        "colab": {
          "base_uri": "https://localhost:8080/"
        },
        "id": "YcSfU3AVgpON",
        "outputId": "ac70a8aa-fd23-4d5b-b933-408284a33e49"
      },
      "outputs": [
        {
          "name": "stdout",
          "output_type": "stream",
          "text": [
            "[(3, 1)]\n",
            "[(3, 4), (3, 5)]\n"
          ]
        }
      ],
      "source": [
        "# Make the detector hole, passing though dielectric and conductor layers\n",
        "\n",
        "dielectric_tags = occ.cut([(3, dielectric_id)], [(3, hole_id)], removeTool=False)[0]\n",
        "conductor_tags = occ.cut(conductor_tags, [(3, hole_id)], removeTool=True)[0]\n",
        "print(dielectric_tags)\n",
        "print(conductor_tags)"
      ]
    },
    {
      "cell_type": "code",
      "execution_count": 9,
      "metadata": {
        "id": "CFLo6Bj1hPyJ"
      },
      "outputs": [],
      "source": [
        "# Create encompassing gas volume\n",
        "# Length in cm\n",
        "gas_gap = 0.2 # distance between GEM surfaces and electrodes (cathode and anode)\n",
        "\n",
        "gas_box_length = 2 * gas_gap + detector_thickness\n",
        "gas_origin = [-pitch/2, -pitch/2, -gas_box_length/2]\n",
        "gas_size = [pitch, pitch, gas_box_length]\n",
        "\n",
        "gas_id = occ.addBox(gas_origin[0], gas_origin[1], gas_origin[2],\n",
        "                    gas_size[0], gas_size[1], gas_size[2])"
      ]
    },
    {
      "cell_type": "code",
      "execution_count": 10,
      "metadata": {
        "colab": {
          "base_uri": "https://localhost:8080/"
        },
        "id": "tbU3DllYjvaS",
        "outputId": "9982cdc7-b4ca-45c5-a0ae-48c0f3b3c69a"
      },
      "outputs": [
        {
          "name": "stdout",
          "output_type": "stream",
          "text": [
            "[(3, 6)]\n"
          ]
        }
      ],
      "source": [
        "# Subtract the detector from the gas volume\n",
        "\n",
        "gas_tags = occ.cut([(3, gas_id)], conductor_tags + dielectric_tags, removeTool=False)[0]\n",
        "print(gas_tags)"
      ]
    },
    {
      "cell_type": "code",
      "execution_count": 11,
      "metadata": {
        "colab": {
          "base_uri": "https://localhost:8080/"
        },
        "id": "QXFFJ6d4kXQM",
        "outputId": "991fd1ea-6685-46fc-e8e3-913035bb696e"
      },
      "outputs": [
        {
          "name": "stdout",
          "output_type": "stream",
          "text": [
            "[(3, 1), (3, 4), (3, 5), (3, 6)]\n"
          ]
        }
      ],
      "source": [
        "# Merge volume surfaces. Until now we defined independent volumes with independent surfaces.\n",
        "# The following function will make sure they share common boundaries.\n",
        "occ.removeAllDuplicates()\n",
        "\n",
        "# gmsh will recreate all the entities in the removeAllDuplicates function and will try to assign the old tags to the new volumes, but this can fail.\n",
        "# Check if the tags id remain the same, if not you will need to find out which tag is what\n",
        "volumes_tags = occ.getEntities(dim=3)\n",
        "print(volumes_tags)\n",
        "\n",
        "occ.synchronize()"
      ]
    },
    {
      "cell_type": "code",
      "execution_count": 12,
      "metadata": {
        "colab": {
          "base_uri": "https://localhost:8080/"
        },
        "id": "BFQaJ_MUlW0a",
        "outputId": "e8a6f04a-751a-4394-af8d-ff21f1d9e50c"
      },
      "outputs": [
        {
          "data": {
            "text/plain": [
              "3"
            ]
          },
          "execution_count": 12,
          "metadata": {},
          "output_type": "execute_result"
        }
      ],
      "source": [
        "# Defining physical volumes\n",
        "def get_ids(tags):\n",
        "    return [tag[1] for tag in tags]\n",
        "    \n",
        "dim = 3\n",
        "\n",
        "gmsh.model.addPhysicalGroup(dim, get_ids(gas_tags), 1)\n",
        "gmsh.model.addPhysicalGroup(dim, get_ids(dielectric_tags), 2)\n",
        "gmsh.model.addPhysicalGroup(dim, get_ids(conductor_tags), 3)"
      ]
    },
    {
      "cell_type": "code",
      "execution_count": 13,
      "metadata": {
        "colab": {
          "base_uri": "https://localhost:8080/"
        },
        "id": "dKFebacly3aM",
        "outputId": "83c1ea06-1dca-4792-9b4b-038494485de9"
      },
      "outputs": [
        {
          "name": "stdout",
          "output_type": "stream",
          "text": [
            "[(2, 42), (2, 45), (2, 55), (2, 56), (2, 57), (2, 58), (2, 59)]\n",
            "[(2, 37), (2, 47), (2, 50), (2, 51), (2, 52), (2, 53), (2, 54)]\n",
            "[(2, 69)]\n",
            "[(2, 63)]\n",
            "[(2, 43), (2, 50), (2, 55), (2, 60), (2, 65)]\n",
            "[(2, 48), (2, 53), (2, 58), (2, 64), (2, 68)]\n",
            "[(2, 44), (2, 51), (2, 56), (2, 61), (2, 67)]\n",
            "[(2, 46), (2, 52), (2, 57), (2, 62), (2, 66)]\n"
          ]
        }
      ],
      "source": [
        "# Defining physical surfaces, the ones we need to apply boundary conditions like the potentials\n",
        "dim = 2\n",
        "epsilon = 1e-6\n",
        "\n",
        "# Conductor\n",
        "side = pitch/2 + epsilon\n",
        "height = detector_thickness/2 + epsilon\n",
        "\n",
        "top_conductor = occ.getEntitiesInBoundingBox(-side, -side, 0,\n",
        "                                             side,side, height,\n",
        "                                             dim)\n",
        "botton_conductor = occ.getEntitiesInBoundingBox(-side, -side, -height,\n",
        "                                                side, side, 0,\n",
        "                                                dim)\n",
        "\n",
        "# Electrodes: cathode and anode\n",
        "height = gas_box_length/2\n",
        "\n",
        "top_gas = occ.getEntitiesInBoundingBox(-side, -side, height - epsilon, side,\n",
        "                                       side, height + epsilon,\n",
        "                                       dim)\n",
        "botton_gas = occ.getEntitiesInBoundingBox(-side, -side, -height - epsilon,\n",
        "                                          side, side, -height + epsilon,\n",
        "                                          dim)\n",
        "\n",
        "# Side surfaces\n",
        "side = pitch/2\n",
        "xmin = occ.getEntitiesInBoundingBox(-side -epsilon, -side -epsilon, -height -epsilon,\n",
        "                                    -side + epsilon, side + epsilon, height + epsilon,\n",
        "                                    dim)\n",
        "xmax = occ.getEntitiesInBoundingBox(side -epsilon, -side -epsilon, -height -epsilon,\n",
        "                                    side + epsilon, side + epsilon, height + epsilon,\n",
        "                                    dim)\n",
        "\n",
        "ymin = occ.getEntitiesInBoundingBox(-side -epsilon, -side -epsilon, -height -epsilon,\n",
        "                                    side + epsilon, -side + epsilon, height + epsilon,\n",
        "                                    dim)\n",
        "ymax = occ.getEntitiesInBoundingBox(-side -epsilon, side -epsilon, -height -epsilon,\n",
        "                                    side + epsilon, side + epsilon, height + epsilon,\n",
        "                                    dim)\n",
        "\n",
        "print(top_conductor)\n",
        "print(botton_conductor)\n",
        "print(top_gas)\n",
        "print(botton_gas)\n",
        "print(xmin)\n",
        "print(xmax)\n",
        "print(ymin)\n",
        "print(ymax)"
      ]
    },
    {
      "cell_type": "code",
      "execution_count": 14,
      "metadata": {
        "colab": {
          "base_uri": "https://localhost:8080/"
        },
        "id": "1iukbyzJ6A1k",
        "outputId": "be975035-fc8f-42f7-bcdf-90fc7f680505"
      },
      "outputs": [
        {
          "data": {
            "text/plain": [
              "8"
            ]
          },
          "execution_count": 14,
          "metadata": {},
          "output_type": "execute_result"
        }
      ],
      "source": [
        "gmsh.model.addPhysicalGroup(dim, get_ids(top_gas), 1)\n",
        "gmsh.model.addPhysicalGroup(dim, get_ids(top_conductor), 2)\n",
        "gmsh.model.addPhysicalGroup(dim, get_ids(botton_conductor), 3)\n",
        "gmsh.model.addPhysicalGroup(dim, get_ids(botton_gas), 4)\n",
        "\n",
        "gmsh.model.addPhysicalGroup(dim, get_ids(xmin), 5)\n",
        "gmsh.model.addPhysicalGroup(dim, get_ids(xmax), 6)\n",
        "gmsh.model.addPhysicalGroup(dim, get_ids(ymin), 7)\n",
        "gmsh.model.addPhysicalGroup(dim, get_ids(ymax), 8)"
      ]
    },
    {
      "cell_type": "code",
      "execution_count": 15,
      "metadata": {
        "id": "JdFTDtmGsTp0"
      },
      "outputs": [],
      "source": [
        "# Set overall mesh size\n",
        "all_points = gmsh.model.getEntities(dim=0)\n",
        "gmsh.model.mesh.set_size(all_points, 150e-4)\n",
        "\n",
        "# Refining mesh around GEM conductors\n",
        "conductor_points = gmsh.model.getBoundary(top_conductor + botton_conductor, False, False, True)\n",
        "gmsh.model.mesh.set_size(conductor_points, 5e-4)"
      ]
    },
    {
      "cell_type": "code",
      "execution_count": 16,
      "metadata": {
        "colab": {
          "base_uri": "https://localhost:8080/"
        },
        "id": "lIhwXwvimAzh",
        "outputId": "efb34088-2cdb-4a76-b6ca-c863c9b0aa34"
      },
      "outputs": [
        {
          "name": "stdout",
          "output_type": "stream",
          "text": [
            "Info    : Meshing 1D...\n",
            "Info    : [  0%] Meshing curve 53 (Line)\n",
            "Info    : [ 10%] Meshing curve 55 (Line)\n",
            "Info    : [ 10%] Meshing curve 58 (Line)\n",
            "Info    : [ 10%] Meshing curve 59 (Line)\n",
            "Info    : [ 10%] Meshing curve 60 (Circle)\n",
            "Info    : [ 10%] Meshing curve 63 (Line)\n",
            "Info    : [ 20%] Meshing curve 66 (Line)\n",
            "Info    : [ 20%] Meshing curve 67 (Line)\n",
            "Info    : [ 20%] Meshing curve 68 (Line)\n",
            "Info    : [ 20%] Meshing curve 69 (Circle)\n",
            "Info    : [ 20%] Meshing curve 70 (Line)\n",
            "Info    : [ 30%] Meshing curve 71 (Line)\n",
            "Info    : [ 30%] Meshing curve 72 (Line)\n",
            "Info    : [ 30%] Meshing curve 73 (Line)\n",
            "Info    : [ 30%] Meshing curve 74 (Line)\n",
            "Info    : [ 30%] Meshing curve 75 (Line)\n",
            "Info    : [ 40%] Meshing curve 76 (Line)\n",
            "Info    : [ 40%] Meshing curve 77 (Line)\n",
            "Info    : [ 40%] Meshing curve 78 (Line)\n",
            "Info    : [ 40%] Meshing curve 79 (Circle)\n",
            "Info    : [ 40%] Meshing curve 80 (Line)\n",
            "Info    : [ 50%] Meshing curve 81 (Line)\n",
            "Info    : [ 50%] Meshing curve 82 (Line)\n",
            "Info    : [ 50%] Meshing curve 83 (Circle)\n",
            "Info    : [ 50%] Meshing curve 84 (Line)\n",
            "Info    : [ 50%] Meshing curve 85 (Line)\n",
            "Info    : [ 60%] Meshing curve 86 (Line)\n",
            "Info    : [ 60%] Meshing curve 87 (Line)\n",
            "Info    : [ 60%] Meshing curve 88 (Line)\n",
            "Info    : [ 60%] Meshing curve 89 (Line)\n",
            "Info    : [ 60%] Meshing curve 90 (Line)\n",
            "Info    : [ 70%] Meshing curve 91 (Line)\n",
            "Info    : [ 70%] Meshing curve 92 (Line)\n",
            "Info    : [ 70%] Meshing curve 93 (Line)\n",
            "Info    : [ 70%] Meshing curve 94 (Line)\n",
            "Info    : [ 70%] Meshing curve 95 (Line)\n",
            "Info    : [ 80%] Meshing curve 96 (Line)\n",
            "Info    : [ 80%] Meshing curve 97 (Line)\n",
            "Info    : [ 80%] Meshing curve 98 (Line)\n",
            "Info    : [ 80%] Meshing curve 99 (Line)\n",
            "Info    : [ 80%] Meshing curve 100 (Line)\n",
            "Info    : [ 90%] Meshing curve 101 (Line)\n",
            "Info    : [ 90%] Meshing curve 102 (Line)\n",
            "Info    : [ 90%] Meshing curve 103 (Line)\n",
            "Info    : [ 90%] Meshing curve 104 (Line)\n",
            "Info    : [ 90%] Meshing curve 105 (Line)\n",
            "Info    : [100%] Meshing curve 106 (Line)\n",
            "Info    : [100%] Meshing curve 107 (Line)\n",
            "Info    : [100%] Meshing curve 108 (Line)\n",
            "Info    : [100%] Meshing curve 109 (Line)\n",
            "Info    : [100%] Meshing curve 110 (Line)\n",
            "Info    : Done meshing 1D (Wall 0.0515051s, CPU 0.052117s)\n",
            "Info    : Meshing 2D...\n",
            "Info    : [  0%] Meshing surface 37 (Plane, Frontal-Delaunay)\n",
            "Info    : [ 10%] Meshing surface 42 (Plane, Frontal-Delaunay)\n",
            "Info    : [ 10%] Meshing surface 43 (Plane, Frontal-Delaunay)\n",
            "Info    : [ 20%] Meshing surface 44 (Plane, Frontal-Delaunay)\n",
            "Info    : [ 20%] Meshing surface 45 (Plane, Frontal-Delaunay)\n",
            "Info    : [ 20%] Meshing surface 46 (Plane, Frontal-Delaunay)\n",
            "Info    : [ 30%] Meshing surface 47 (Plane, Frontal-Delaunay)\n",
            "Info    : [ 30%] Meshing surface 48 (Plane, Frontal-Delaunay)\n",
            "Info    : [ 30%] Meshing surface 49 (Cylinder, Frontal-Delaunay)\n",
            "Info    : [ 40%] Meshing surface 50 (Plane, Frontal-Delaunay)\n",
            "Info    : [ 40%] Meshing surface 51 (Plane, Frontal-Delaunay)\n",
            "Info    : [ 40%] Meshing surface 52 (Plane, Frontal-Delaunay)\n",
            "Info    : [ 50%] Meshing surface 53 (Plane, Frontal-Delaunay)\n",
            "Info    : [ 50%] Meshing surface 54 (Cylinder, Frontal-Delaunay)\n",
            "Info    : [ 50%] Meshing surface 55 (Plane, Frontal-Delaunay)\n",
            "Info    : [ 60%] Meshing surface 56 (Plane, Frontal-Delaunay)\n",
            "Info    : [ 60%] Meshing surface 57 (Plane, Frontal-Delaunay)\n",
            "Info    : [ 60%] Meshing surface 58 (Plane, Frontal-Delaunay)\n",
            "Info    : [ 70%] Meshing surface 59 (Cylinder, Frontal-Delaunay)\n",
            "Info    : [ 70%] Meshing surface 60 (Plane, Frontal-Delaunay)\n",
            "Info    : [ 70%] Meshing surface 61 (Plane, Frontal-Delaunay)\n",
            "Info    : [ 80%] Meshing surface 62 (Plane, Frontal-Delaunay)\n",
            "Info    : [ 80%] Meshing surface 63 (Plane, Frontal-Delaunay)\n",
            "Info    : [ 80%] Meshing surface 64 (Plane, Frontal-Delaunay)\n",
            "Info    : [ 90%] Meshing surface 65 (Plane, Frontal-Delaunay)\n",
            "Info    : [ 90%] Meshing surface 66 (Plane, Frontal-Delaunay)\n",
            "Info    : [ 90%] Meshing surface 67 (Plane, Frontal-Delaunay)\n",
            "Info    : [100%] Meshing surface 68 (Plane, Frontal-Delaunay)\n",
            "Info    : [100%] Meshing surface 69 (Plane, Frontal-Delaunay)\n",
            "Info    : Done meshing 2D (Wall 0.289295s, CPU 0.288286s)\n",
            "Info    : Meshing 3D...\n",
            "Info    : 3D Meshing 4 volumes with 1 connected component\n",
            "Info    : Tetrahedrizing 9131 nodes...\n",
            "Info    : Done tetrahedrizing 9139 nodes (Wall 0.148384s, CPU 0.138077s)\n",
            "Info    : Reconstructing mesh...\n",
            "Info    :  - Creating surface mesh\n",
            "Info    :  - Identifying boundary edges\n",
            "Info    :  - Recovering boundary\n",
            "Info    :  - Added 37 Steiner points\n",
            "Info    : Done reconstructing mesh (Wall 0.445281s, CPU 0.423594s)\n",
            "Info    : Found volume 6\n",
            "Info    : Found volume 1\n",
            "Info    : Found volume 4\n",
            "Info    : Found volume 5\n",
            "Info    : It. 0 - 0 nodes created - worst tet radius 12.459 (nodes removed 0 0)\n",
            "Info    : It. 500 - 498 nodes created - worst tet radius 2.40776 (nodes removed 0 2)\n",
            "Info    : It. 1000 - 998 nodes created - worst tet radius 1.97803 (nodes removed 0 2)\n",
            "Info    : It. 1500 - 1498 nodes created - worst tet radius 1.76141 (nodes removed 0 2)\n",
            "Info    : It. 2000 - 1998 nodes created - worst tet radius 1.61719 (nodes removed 0 2)\n",
            "Info    : It. 2500 - 2498 nodes created - worst tet radius 1.51731 (nodes removed 0 2)\n",
            "Info    : It. 3000 - 2998 nodes created - worst tet radius 1.4318 (nodes removed 0 2)\n",
            "Info    : It. 3500 - 3498 nodes created - worst tet radius 1.36421 (nodes removed 0 2)\n",
            "Info    : It. 4000 - 3997 nodes created - worst tet radius 1.31416 (nodes removed 0 3)\n",
            "Info    : It. 4500 - 4497 nodes created - worst tet radius 1.27045 (nodes removed 0 3)\n",
            "Info    : It. 5000 - 4997 nodes created - worst tet radius 1.2318 (nodes removed 0 3)\n",
            "Info    : It. 5500 - 5497 nodes created - worst tet radius 1.19696 (nodes removed 0 3)\n",
            "Info    : It. 6000 - 5997 nodes created - worst tet radius 1.16572 (nodes removed 0 3)\n",
            "Info    : It. 6500 - 6497 nodes created - worst tet radius 1.136 (nodes removed 0 3)\n",
            "Info    : It. 7000 - 6997 nodes created - worst tet radius 1.11173 (nodes removed 0 3)\n",
            "Info    : It. 7500 - 7497 nodes created - worst tet radius 1.08928 (nodes removed 0 3)\n",
            "Info    : It. 8000 - 7997 nodes created - worst tet radius 1.06877 (nodes removed 0 3)\n",
            "Info    : It. 8500 - 8497 nodes created - worst tet radius 1.04985 (nodes removed 0 3)\n",
            "Info    : It. 9000 - 8997 nodes created - worst tet radius 1.03242 (nodes removed 0 3)\n",
            "Info    : It. 9500 - 9497 nodes created - worst tet radius 1.01562 (nodes removed 0 3)\n",
            "Info    : 3D refinement terminated (19143 nodes total):\n",
            "Info    :  - 3 Delaunay cavities modified for star shapeness\n",
            "Info    :  - 3 nodes could not be inserted\n",
            "Info    :  - 102149 tetrahedra created in 0.739277 sec. (138174 tets/s)\n",
            "Info    : Done meshing 3D (Wall 1.58332s, CPU 1.54872s)\n",
            "Info    : Optimizing mesh...\n",
            "Info    : Optimizing volume 1\n",
            "Info    : Optimization starts (volume = 7.88065e-07) with worst = 0.00943599 / average = 0.769683:\n",
            "Info    : 0.00 < quality < 0.10 :        71 elements\n",
            "Info    : 0.10 < quality < 0.20 :       231 elements\n",
            "Info    : 0.20 < quality < 0.30 :       348 elements\n",
            "Info    : 0.30 < quality < 0.40 :       537 elements\n",
            "Info    : 0.40 < quality < 0.50 :       808 elements\n",
            "Info    : 0.50 < quality < 0.60 :      1331 elements\n",
            "Info    : 0.60 < quality < 0.70 :      3675 elements\n",
            "Info    : 0.70 < quality < 0.80 :      7333 elements\n",
            "Info    : 0.80 < quality < 0.90 :     10375 elements\n",
            "Info    : 0.90 < quality < 1.00 :      4964 elements\n",
            "Info    : 647 edge swaps, 8 node relocations (volume = 7.88065e-07): worst = 0.186754 / average = 0.783749 (Wall 0.0173297s, CPU 0.017088s)\n",
            "Info    : 651 edge swaps, 8 node relocations (volume = 7.88065e-07): worst = 0.300106 / average = 0.783836 (Wall 0.0200568s, CPU 0.019818s)\n",
            "Info    : No ill-shaped tets in the mesh :-)\n",
            "Info    : 0.00 < quality < 0.10 :         0 elements\n",
            "Info    : 0.10 < quality < 0.20 :         0 elements\n",
            "Info    : 0.20 < quality < 0.30 :         0 elements\n",
            "Info    : 0.30 < quality < 0.40 :       522 elements\n",
            "Info    : 0.40 < quality < 0.50 :       754 elements\n",
            "Info    : 0.50 < quality < 0.60 :      1299 elements\n",
            "Info    : 0.60 < quality < 0.70 :      3635 elements\n",
            "Info    : 0.70 < quality < 0.80 :      7414 elements\n",
            "Info    : 0.80 < quality < 0.90 :     10494 elements\n",
            "Info    : 0.90 < quality < 1.00 :      4951 elements\n",
            "Info    : Optimizing volume 4\n",
            "Info    : Optimization starts (volume = 3.93952e-08) with worst = 0.306171 / average = 0.671845:\n",
            "Info    : 0.00 < quality < 0.10 :         0 elements\n",
            "Info    : 0.10 < quality < 0.20 :         0 elements\n",
            "Info    : 0.20 < quality < 0.30 :         0 elements\n",
            "Info    : 0.30 < quality < 0.40 :        53 elements\n",
            "Info    : 0.40 < quality < 0.50 :       421 elements\n",
            "Info    : 0.50 < quality < 0.60 :       193 elements\n",
            "Info    : 0.60 < quality < 0.70 :      1984 elements\n",
            "Info    : 0.70 < quality < 0.80 :      2470 elements\n",
            "Info    : 0.80 < quality < 0.90 :         4 elements\n",
            "Info    : 0.90 < quality < 1.00 :         4 elements\n",
            "Info    : No ill-shaped tets in the mesh :-)\n",
            "Info    : 0.00 < quality < 0.10 :         0 elements\n",
            "Info    : 0.10 < quality < 0.20 :         0 elements\n",
            "Info    : 0.20 < quality < 0.30 :         0 elements\n",
            "Info    : 0.30 < quality < 0.40 :        53 elements\n",
            "Info    : 0.40 < quality < 0.50 :       421 elements\n",
            "Info    : 0.50 < quality < 0.60 :       193 elements\n",
            "Info    : 0.60 < quality < 0.70 :      1984 elements\n",
            "Info    : 0.70 < quality < 0.80 :      2470 elements\n",
            "Info    : 0.80 < quality < 0.90 :         4 elements\n",
            "Info    : 0.90 < quality < 1.00 :         4 elements\n",
            "Info    : Optimizing volume 5\n",
            "Info    : Optimization starts (volume = 3.93952e-08) with worst = 0.317197 / average = 0.672145:\n",
            "Info    : 0.00 < quality < 0.10 :         0 elements\n",
            "Info    : 0.10 < quality < 0.20 :         0 elements\n",
            "Info    : 0.20 < quality < 0.30 :         0 elements\n",
            "Info    : 0.30 < quality < 0.40 :        40 elements\n",
            "Info    : 0.40 < quality < 0.50 :       432 elements\n",
            "Info    : 0.50 < quality < 0.60 :       189 elements\n",
            "Info    : 0.60 < quality < 0.70 :      1990 elements\n",
            "Info    : 0.70 < quality < 0.80 :      2465 elements\n",
            "Info    : 0.80 < quality < 0.90 :         4 elements\n",
            "Info    : 0.90 < quality < 1.00 :         4 elements\n",
            "Info    : No ill-shaped tets in the mesh :-)\n",
            "Info    : 0.00 < quality < 0.10 :         0 elements\n",
            "Info    : 0.10 < quality < 0.20 :         0 elements\n",
            "Info    : 0.20 < quality < 0.30 :         0 elements\n",
            "Info    : 0.30 < quality < 0.40 :        40 elements\n",
            "Info    : 0.40 < quality < 0.50 :       432 elements\n",
            "Info    : 0.50 < quality < 0.60 :       189 elements\n",
            "Info    : 0.60 < quality < 0.70 :      1990 elements\n",
            "Info    : 0.70 < quality < 0.80 :      2465 elements\n",
            "Info    : 0.80 < quality < 0.90 :         4 elements\n",
            "Info    : 0.90 < quality < 1.00 :         4 elements\n",
            "Info    : Optimizing volume 6\n",
            "Info    : Optimization starts (volume = 7.86111e-05) with worst = 0.00363006 / average = 0.765698:\n",
            "Info    : 0.00 < quality < 0.10 :       143 elements\n",
            "Info    : 0.10 < quality < 0.20 :       421 elements\n",
            "Info    : 0.20 < quality < 0.30 :       745 elements\n",
            "Info    : 0.30 < quality < 0.40 :      1136 elements\n",
            "Info    : 0.40 < quality < 0.50 :      1837 elements\n",
            "Info    : 0.50 < quality < 0.60 :      3459 elements\n",
            "Info    : 0.60 < quality < 0.70 :      7830 elements\n",
            "Info    : 0.70 < quality < 0.80 :     15255 elements\n",
            "Info    : 0.80 < quality < 0.90 :     20969 elements\n",
            "Info    : 0.90 < quality < 1.00 :     10426 elements\n",
            "Info    : 1293 edge swaps, 25 node relocations (volume = 7.86111e-05): worst = 0.0240693 / average = 0.778428 (Wall 0.041183s, CPU 0.041643s)\n",
            "Info    : 1302 edge swaps, 25 node relocations (volume = 7.86111e-05): worst = 0.0240693 / average = 0.778523 (Wall 0.0492331s, CPU 0.049793s)\n",
            "Info    : No ill-shaped tets in the mesh :-)\n",
            "Info    : 0.00 < quality < 0.10 :         1 elements\n",
            "Info    : 0.10 < quality < 0.20 :         0 elements\n",
            "Info    : 0.20 < quality < 0.30 :         2 elements\n",
            "Info    : 0.30 < quality < 0.40 :      1150 elements\n",
            "Info    : 0.40 < quality < 0.50 :      1771 elements\n",
            "Info    : 0.50 < quality < 0.60 :      3437 elements\n",
            "Info    : 0.60 < quality < 0.70 :      7684 elements\n",
            "Info    : 0.70 < quality < 0.80 :     15439 elements\n",
            "Info    : 0.80 < quality < 0.90 :     21205 elements\n",
            "Info    : 0.90 < quality < 1.00 :     10367 elements\n",
            "Info    : Done optimizing mesh (Wall 0.204311s, CPU 0.206708s)\n",
            "Info    : Meshing order 2 (curvilinear on)...\n",
            "Info    : [  0%] Meshing curve 53 order 2\n",
            "Info    : [ 10%] Meshing curve 55 order 2\n",
            "Info    : [ 10%] Meshing curve 58 order 2\n",
            "Info    : [ 10%] Meshing curve 59 order 2\n",
            "Info    : [ 10%] Meshing curve 60 order 2\n",
            "Info    : [ 10%] Meshing curve 63 order 2\n",
            "Info    : [ 10%] Meshing curve 66 order 2\n",
            "Info    : [ 10%] Meshing curve 67 order 2\n",
            "Info    : [ 10%] Meshing curve 68 order 2\n",
            "Info    : [ 20%] Meshing curve 69 order 2\n",
            "Info    : [ 20%] Meshing curve 70 order 2\n",
            "Info    : [ 20%] Meshing curve 71 order 2\n",
            "Info    : [ 20%] Meshing curve 72 order 2\n",
            "Info    : [ 20%] Meshing curve 73 order 2\n",
            "Info    : [ 20%] Meshing curve 74 order 2\n",
            "Info    : [ 20%] Meshing curve 75 order 2\n",
            "Info    : [ 20%] Meshing curve 76 order 2\n",
            "Info    : [ 30%] Meshing curve 77 order 2\n",
            "Info    : [ 30%] Meshing curve 78 order 2\n",
            "Info    : [ 30%] Meshing curve 79 order 2\n",
            "Info    : [ 30%] Meshing curve 80 order 2\n",
            "Info    : [ 30%] Meshing curve 81 order 2\n",
            "Info    : [ 30%] Meshing curve 82 order 2\n",
            "Info    : [ 30%] Meshing curve 83 order 2\n",
            "Info    : [ 30%] Meshing curve 84 order 2\n",
            "Info    : [ 30%] Meshing curve 85 order 2\n",
            "Info    : [ 40%] Meshing curve 86 order 2\n",
            "Info    : [ 40%] Meshing curve 87 order 2\n",
            "Info    : [ 40%] Meshing curve 88 order 2\n",
            "Info    : [ 40%] Meshing curve 89 order 2\n",
            "Info    : [ 40%] Meshing curve 90 order 2\n",
            "Info    : [ 40%] Meshing curve 91 order 2\n",
            "Info    : [ 40%] Meshing curve 92 order 2\n",
            "Info    : [ 40%] Meshing curve 93 order 2\n",
            "Info    : [ 50%] Meshing curve 94 order 2\n",
            "Info    : [ 50%] Meshing curve 95 order 2\n",
            "Info    : [ 50%] Meshing curve 96 order 2\n",
            "Info    : [ 50%] Meshing curve 97 order 2\n",
            "Info    : [ 50%] Meshing curve 98 order 2\n",
            "Info    : [ 50%] Meshing curve 99 order 2\n",
            "Info    : [ 50%] Meshing curve 100 order 2\n",
            "Info    : [ 50%] Meshing curve 101 order 2\n",
            "Info    : [ 50%] Meshing curve 102 order 2\n",
            "Info    : [ 60%] Meshing curve 103 order 2\n",
            "Info    : [ 60%] Meshing curve 104 order 2\n",
            "Info    : [ 60%] Meshing curve 105 order 2\n",
            "Info    : [ 60%] Meshing curve 106 order 2\n",
            "Info    : [ 60%] Meshing curve 107 order 2\n",
            "Info    : [ 60%] Meshing curve 108 order 2\n",
            "Info    : [ 60%] Meshing curve 109 order 2\n",
            "Info    : [ 60%] Meshing curve 110 order 2\n",
            "Info    : [ 70%] Meshing surface 37 order 2\n",
            "Info    : [ 70%] Meshing surface 42 order 2\n",
            "Info    : [ 70%] Meshing surface 43 order 2\n",
            "Info    : [ 70%] Meshing surface 44 order 2\n",
            "Info    : [ 70%] Meshing surface 45 order 2\n",
            "Info    : [ 70%] Meshing surface 46 order 2\n",
            "Info    : [ 70%] Meshing surface 47 order 2\n",
            "Info    : [ 70%] Meshing surface 48 order 2\n",
            "Info    : [ 80%] Meshing surface 49 order 2\n",
            "Info    : [ 80%] Meshing surface 50 order 2\n",
            "Info    : [ 80%] Meshing surface 51 order 2\n",
            "Info    : [ 80%] Meshing surface 52 order 2\n",
            "Info    : [ 80%] Meshing surface 53 order 2\n",
            "Info    : [ 80%] Meshing surface 54 order 2\n",
            "Info    : [ 80%] Meshing surface 55 order 2\n",
            "Info    : [ 80%] Meshing surface 56 order 2\n",
            "Info    : [ 80%] Meshing surface 57 order 2\n",
            "Info    : [ 90%] Meshing surface 58 order 2\n",
            "Info    : [ 90%] Meshing surface 59 order 2\n",
            "Info    : [ 90%] Meshing surface 60 order 2\n",
            "Info    : [ 90%] Meshing surface 61 order 2\n",
            "Info    : [ 90%] Meshing surface 62 order 2\n",
            "Info    : [ 90%] Meshing surface 63 order 2\n",
            "Info    : [ 90%] Meshing surface 64 order 2\n",
            "Info    : [ 90%] Meshing surface 65 order 2\n",
            "Info    : [100%] Meshing surface 66 order 2\n",
            "Info    : [100%] Meshing surface 67 order 2\n",
            "Info    : [100%] Meshing surface 68 order 2\n",
            "Info    : [100%] Meshing surface 69 order 2\n",
            "Info    : [100%] Meshing volume 1 order 2\n",
            "Info    : [100%] Meshing volume 4 order 2\n",
            "Info    : [100%] Meshing volume 5 order 2\n",
            "Info    : [100%] Meshing volume 6 order 2\n",
            "Info    : Surface mesh: worst distortion = 0.914507 (0 elements in ]0, 0.2]); worst gamma = 0.377709\n",
            "Info    : Volume mesh: worst distortion = 0.843316 (0 elements in ]0, 0.2])\n",
            "Info    : Done meshing order 2 (Wall 0.873275s, CPU 0.86953s)\n",
            "Info    : 144324 nodes 120273 elements\n",
            "Info    : Writing 'gemcell.msh'...\n",
            "Info    : Done writing 'gemcell.msh'\n",
            "Info    : Writing 'gemcell.vtk'...\n",
            "Info    : Done writing 'gemcell.vtk'\n"
          ]
        }
      ],
      "source": [
        "# Generating mesh\n",
        "\n",
        "gmsh.option.setNumber(\"Mesh.ElementOrder\", 2)\n",
        "gmsh.option.setNumber(\"Mesh.MshFileVersion\", 2.2)\n",
        "gmsh.model.mesh.generate(3)\n",
        "gmsh.write(\"gemcell.msh\")\n",
        "gmsh.write(\"gemcell.vtk\")\n",
        "gmsh.finalize()"
      ]
    },
    {
      "cell_type": "markdown",
      "metadata": {
        "id": "sNKSTboVyJlH"
      },
      "source": [
        "## Solving electric field with Elmer"
      ]
    },
    {
      "cell_type": "code",
      "execution_count": 17,
      "metadata": {
        "colab": {
          "base_uri": "https://localhost:8080/"
        },
        "id": "hcyLf9x9MAtY",
        "outputId": "e8081e82-c569-470e-8c03-443764cbb5fb"
      },
      "outputs": [
        {
          "name": "stdout",
          "output_type": "stream",
          "text": [
            "\n",
            "Starting program Elmergrid\n",
            "Elmergrid reading in-line arguments\n",
            "Output will be saved to file gemcell.\n",
            "\n",
            "Elmergrid loading data:\n",
            "-----------------------\n",
            "Format chosen using the first line: $MeshFormat\n",
            "Gmsh version is 2.2\n",
            "Loading mesh in Gmsh format 2.0 from file gemcell.msh\n",
            "Allocating for 144324 knots and 119023 elements.\n",
            "Moving bulk elements to boundary elements\n",
            "Leading bulk elementtype is 510\n",
            "Trailing bulk elementtype is 306\n",
            "There are 18640 (out of 119023) lower dimensional elements.\n",
            "Node 77164 belongs to maximum of 54 elements\n",
            "Found 6432 side elements that have two parents.\n",
            "Found correctly 18640 side elements.\n",
            "Parent elements were reordered up to index 100383.\n",
            "Moved 100383 elements (out of 119023) to new positions\n",
            "Successfully read the mesh from the Gmsh input file.\n",
            "Using physical numbering of entities\n",
            "\n",
            "Elmergrid creating and manipulating meshes:\n",
            "-------------------------------------------\n",
            "\n",
            "Elmergrid saving data with method 2:\n",
            "-------------------------------------\n",
            "Saving mesh in ElmerSolver format to directory gemcell.\n",
            "Reusing an existing directory\n",
            "Saving 144324 coordinates to mesh.nodes.\n",
            "Saving 100383 element topologies to mesh.elements.\n",
            "Saving boundary elements to mesh.boundary.\n",
            "Saving header info to mesh.header.\n",
            "\n",
            "Thank you for using Elmergrid!\n",
            "Send bug reports and feature wishes to elmeradm@csc.fi\n"
          ]
        }
      ],
      "source": [
        "!ElmerGrid 14 2 gemcell.msh"
      ]
    },
    {
      "cell_type": "code",
      "execution_count": 18,
      "metadata": {
        "id": "s2RklH2vWT6k"
      },
      "outputs": [],
      "source": [
        "def write_sif(deltaV, gas_gap, Edrift=250, Etrans=1e3):\n",
        "    \"\"\"\n",
        "    deltaV: [V] Voltage through GEM\n",
        "    gas_gap: [cm] Distance between GEM surfaces and electrodes (cathode and anode)\n",
        "    Edrift: [V/cm] Drift field\n",
        "    Etrans: [V/cm] Transfer field\"\"\"\n",
        "\n",
        "    text=f\"\"\"\n",
        "Check Keywords Warn\n",
        "\n",
        "Header\n",
        "  Mesh DB \".\" \"gemcell\"\n",
        "End\n",
        "\n",
        "Simulation\n",
        "  Coordinate System = Cartesian 3D\n",
        "  Simulation Type = Steady State\n",
        "  Steady State Max Iterations = 1\n",
        "  Output File = \"gemcell.result\"\n",
        "  Post File = \"gemcell.vtu\"\n",
        "End\n",
        "\n",
        "Constants\n",
        "  Permittivity Of Vacuum = 8.8542e-12\n",
        "End\n",
        "\n",
        "Body 1\n",
        "  Equation = 1\n",
        "  Material = 1\n",
        "End\n",
        "\n",
        "Body 2\n",
        "  Equation = 1\n",
        "  Material = 2\n",
        "End\n",
        "\n",
        "Body 3\n",
        "  Equation = 1\n",
        "  Material = 3\n",
        "End\n",
        "\n",
        "Equation 1\n",
        "  Active Solvers(1) = 1\n",
        "  Calculate Electric Energy = True\n",
        "End\n",
        "\n",
        "Solver 1\n",
        "  Equation = Stat Elec Solver\n",
        "  Variable = Potential\n",
        "  Variable DOFs = 1\n",
        "  Procedure = \"StatElecSolve\" \"StatElecSolver\"\n",
        "  Calculate Electric Field = True\n",
        "  Calculate Electric Flux = False\n",
        "  Linear System Solver = Iterative\n",
        "  Linear System Iterative Method = BiCGStab\n",
        "  Linear System Max Iterations = 1000\n",
        "  Linear System Abort Not Converged = True\n",
        "  Linear System Convergence Tolerance = 1.0e-10\n",
        "  Linear System Preconditioning = ILU1\n",
        "  Steady State Convergence Tolerance = 5.0e-7\n",
        "!  Adaptive Mesh Refinement = True\n",
        "!  Adaptive Remesh = True\n",
        "!  Adaptive Save Mesh = True\n",
        "!  Adaptive Error Limit = 1.0e-12\n",
        "End\n",
        "\n",
        "! Gas\n",
        "Material 1\n",
        "  Relative Permittivity = 1\n",
        "  Density = 1\n",
        "End\n",
        "\n",
        "! Dielectric\n",
        "Material 2\n",
        "  Relative Permittivity = 3.23\n",
        "  Density = 2\n",
        "End\n",
        "\n",
        "! Conductor\n",
        "Material 3\n",
        "  Relative Permittivity = 1e10\n",
        "  Density = 3\n",
        "End\n",
        "\n",
        "! Upper electrode\n",
        "Boundary Condition 1\n",
        "  Target Boundaries = 1\n",
        "  Potential = {-1*Etrans*gas_gap - deltaV - Edrift*gas_gap}\n",
        "End\n",
        "\n",
        "! Upper copper plate\n",
        "Boundary Condition 2\n",
        "  Target Boundaries = 2\n",
        "  Potential = {-1*Etrans*gas_gap - deltaV}\n",
        "End\n",
        "\n",
        "! Lower copper plate\n",
        "Boundary Condition 3\n",
        "  Target Boundaries = 3\n",
        "  Potential = {-1*Etrans*gas_gap}\n",
        "End\n",
        "\n",
        "! Lower electrode\n",
        "Boundary Condition 4\n",
        "  Target Boundaries = 4\n",
        "  Potential = 0\n",
        "End\n",
        "\n",
        "! Set up boundary xmin\n",
        "Boundary Condition 5\n",
        "  Target Boundaries = 5\n",
        "End\n",
        "! Link to xmax\n",
        "Boundary Condition 6\n",
        "  Target Boundaries = 6\n",
        "  Periodic BC = 5\n",
        "  Periodic BC Potential = Logical True\n",
        "End\n",
        "\n",
        "! Set up boundary for ymin\n",
        "Boundary Condition 7\n",
        "  Target Boundaries = 7\n",
        "End\n",
        "! Link to ymax\n",
        "Boundary Condition 8\n",
        "  Target Boundaries = 8\n",
        "  Periodic BC = 7\n",
        "  Periodic BC Potential = Logical True\n",
        "End\n",
        "\"\"\"\n",
        "\n",
        "    with open(\"gemcell.sif\", \"w\") as file:\n",
        "        file.write(text)\n"
      ]
    },
    {
      "cell_type": "code",
      "execution_count": 19,
      "metadata": {
        "id": "sQkWf_S6PxCf"
      },
      "outputs": [],
      "source": [
        "write_sif(deltaV=450, gas_gap=gas_gap)"
      ]
    },
    {
      "cell_type": "code",
      "execution_count": 20,
      "metadata": {
        "colab": {
          "base_uri": "https://localhost:8080/"
        },
        "id": "ZlgkYhlEJqMO",
        "outputId": "fa66b1c6-97a3-40af-f85e-092f40bcc166"
      },
      "outputs": [
        {
          "name": "stdout",
          "output_type": "stream",
          "text": [
            "ELMER SOLVER (v 9.0) STARTED AT: 2022/07/19 19:05:12\n",
            "ParCommInit:  Initialize #PEs:            1\n",
            "MAIN: \n",
            "MAIN: =============================================================\n",
            "MAIN: ElmerSolver finite element software, Welcome!\n",
            "MAIN: This program is free software licensed under (L)GPL\n",
            "MAIN: Copyright 1st April 1995 - , CSC - IT Center for Science Ltd.\n",
            "MAIN: Webpage http://www.csc.fi/elmer, Email elmeradm@csc.fi\n",
            "MAIN: Version: 9.0 (Rev: cdd726ff, Compiled: 2022-07-01)\n",
            "MAIN:  Running one task without MPI parallelization.\n",
            "MAIN:  Running with just one thread per task.\n",
            "MAIN: =============================================================\n",
            "MAIN: \n",
            "MAIN: \n",
            "MAIN: -------------------------------------\n",
            "MAIN: Reading Model: gemcell.sif\n",
            "LoadInputFile: Scanning input file: gemcell.sif\n",
            "LoadInputFile: Scanning only size info\n",
            "LoadInputFile: First time visiting\n",
            "LoadInputFile: Reading base load of sif file\n",
            "LoadInputFile: Loading input file: gemcell.sif\n",
            "LoadInputFile: Reading base load of sif file\n",
            "CheckKeyword:  Unlisted keyword: [periodic bc potential] in section: [boundary condition 6]\n",
            "CheckKeyword:  Unlisted keyword: [periodic bc potential] in section: [boundary condition 8]\n",
            "LoadInputFile: Number of BCs: 8\n",
            "LoadInputFile: Number of Body Forces: 0\n",
            "LoadInputFile: Number of Initial Conditions: 0\n",
            "LoadInputFile: Number of Materials: 3\n",
            "LoadInputFile: Number of Equations: 1\n",
            "LoadInputFile: Number of Solvers: 1\n",
            "LoadInputFile: Number of Bodies: 3\n",
            "ListTagKeywords: Setting weight for keywords!\n",
            "ListTagKeywords: No parameters width suffix: normalize by area\n",
            "ListTagKeywords: Setting weight for keywords!\n",
            "ListTagKeywords: No parameters width suffix: normalize by volume\n",
            "Loading user function library: [StatElecSolve]...[StatElecSolver_Init0]\n",
            "LoadMesh: Loading serial mesh!\n",
            "ElmerAsciiMesh: Performing step: 1\n",
            "ElmerAsciiMesh: Base mesh name: ./gemcell\n",
            "ReadHeaderFile: Reading header info from file: ./gemcell/mesh.header\n",
            "InitializeMesh: Number of nodes in mesh: 144324\n",
            "InitializeMesh: Number of bulk elements in mesh: 100383\n",
            "InitializeMesh: Number of boundary elements in mesh: 18640\n",
            "InitializeMesh: Initial number of max element nodes: 10\n",
            "ElmerAsciiMesh: Performing step: 2\n",
            "ReadNodesFile: Reading nodes from file: ./gemcell/mesh.nodes\n",
            "SetMeshDimension: Dimension of mesh is: 3\n",
            "SetMeshDimension: Max dimension of mesh is: 3\n",
            "ElmerAsciiMesh: Performing step: 3\n",
            "ReadElementsFile: Reading bulk elements from file: ./gemcell/mesh.elements\n",
            "ElmerAsciiMesh: Performing step: 4\n",
            "ReadBoundaryFile: Reading boundary elements from file: ./gemcell/mesh.boundary\n",
            "PermuteNodeNumbering: Performing node mapping\n",
            "MapBodiesAndBCs: Skipping remapping of bodies\n",
            "MapBodiesAndBCs: Remapping boundaries\n",
            "MapBodiesAndBCs: Minimum initial boundary index: 1\n",
            "MapBodiesAndBCs: Maximum initial boundary index: 8\n",
            "ElmerAsciiMesh: Performing step: 5\n",
            "ElmerAsciiMesh: Performing step: 6\n",
            "LoadMesh: Loading mesh done\n",
            "PeriodicProjector: -----------------------------------------------------\n",
            "PeriodicProjector: Creating projector between BCs 6 and 5\n",
            "CreateInterfaceMeshes: Making a list of elements at interface\n",
            "CreateInterfaceMeshes: Number of interface elements: 2824, 2824\n",
            "CreateInterfaceMeshes: Number of interface nodes: 5863, 5863\n",
            "OverlayInterfaceMeshes: Minimum values for this periodic BC:     7.000000E-03  -7.000000E-03  -2.027500E-01\n",
            "OverlayInterfaceMeshes: Maximum values for this periodic BC:     7.000000E-03   7.000000E-03   2.027500E-01\n",
            "OverlayInterfaceMeshes: Minimum values for target periodic BC:  -7.000000E-03  -7.000000E-03  -2.027500E-01\n",
            "OverlayInterfaceMeshes: Maximum values for target periodic BC:  -7.000000E-03   7.000000E-03   2.027500E-01\n",
            "OverlayInterfaceMeshes: Scaling with:    1.000000E+00   1.000000E+00   1.000000E+00\n",
            "OverlayInterfaceMeshes: Translation:    1.400000E-02   0.000000E+00   0.000000E+00\n",
            "BuildQuandrantTree: Start\n",
            "BuildQuandrantTree: Ready\n",
            "InterpolateMeshToMesh: Found all nodes in the target mesh\n",
            "PeriodicProjector: Elapsed REAL time:     0.0508 (s)\n",
            "PeriodicProjector: Projector created, now exiting...\n",
            "PeriodicProjector: -----------------------------------------------------\n",
            "PeriodicProjector: Creating projector between BCs 8 and 7\n",
            "CreateInterfaceMeshes: Making a list of elements at interface\n",
            "CreateInterfaceMeshes: Number of interface elements: 2828, 2828\n",
            "CreateInterfaceMeshes: Number of interface nodes: 5871, 5871\n",
            "OverlayInterfaceMeshes: Minimum values for this periodic BC:    -7.000000E-03   7.000000E-03  -2.027500E-01\n",
            "OverlayInterfaceMeshes: Maximum values for this periodic BC:     7.000000E-03   7.000000E-03   2.027500E-01\n",
            "OverlayInterfaceMeshes: Minimum values for target periodic BC:  -7.000000E-03  -7.000000E-03  -2.027500E-01\n",
            "OverlayInterfaceMeshes: Maximum values for target periodic BC:   7.000000E-03  -7.000000E-03   2.027500E-01\n",
            "OverlayInterfaceMeshes: Scaling with:    1.000000E+00   1.000000E+00   1.000000E+00\n",
            "OverlayInterfaceMeshes: Translation:    0.000000E+00   1.400000E-02   0.000000E+00\n",
            "BuildQuandrantTree: Start\n",
            "BuildQuandrantTree: Ready\n",
            "InterpolateMeshToMesh: Found all nodes in the target mesh\n",
            "PeriodicProjector: Elapsed REAL time:     0.0528 (s)\n",
            "PeriodicProjector: Projector created, now exiting...\n",
            "LoadMesh: Preparing mesh done\n",
            "LoadMesh: Elapsed REAL time:     0.5160 (s)\n",
            "MeshStabParams: Computing stabilization parameters\n",
            "MeshStabParams: Elapsed REAL time:     0.0305 (s)\n",
            "MAIN: -------------------------------------\n",
            "AddVtuOutputSolverHack: Adding ResultOutputSolver to write VTU output in file: gemcell\n",
            "AppendNewSolver: Increasing number of solvers to: 2\n",
            "AddMeshCoordinates: Setting mesh coordinates and time\n",
            "AddSolvers: Setting up 2 solvers\n",
            "AddSolvers: Setting up solver 1: stat elec solver\n",
            "AddEquationBasics: Using procedure: StatElecSolve StatElecSolver\n",
            "AddEquationBasics: Setting up solver: stat elec solver\n",
            "Loading user function library: [StatElecSolve]...[StatElecSolver_Init]\n",
            "Loading user function library: [StatElecSolve]...[StatElecSolver_bulk]\n",
            "Loading user function library: [StatElecSolve]...[StatElecSolver]\n",
            "AddEquationBasics: Creating standard variable: potential\n",
            "MakeListMatrix: Adding matrix topology for BC: 6\n",
            "MakeListMatrix: Adding matrix topology for BC: 8\n",
            "OptimizeBandwidth: ---------------------------------------------------------\n",
            "OptimizeBandwidth: Computing matrix structure for: stat elec solver...done.\n",
            "OptimizeBandwidth: Half bandwidth without optimization: 144281\n",
            "OptimizeBandwidth: \n",
            "OptimizeBandwidth: Bandwidth Optimization ...done.\n",
            "OptimizeBandwidth: Half bandwidth after optimization: 20511\n",
            "OptimizeBandwidth: ---------------------------------------------------------\n",
            "AddSolvers: Setting up solver 2: internalvtuoutputsolver\n",
            "AddEquationBasics: Using procedure: ResultOutputSolve ResultOutputSolver\n",
            "AddEquationBasics: Setting up solver: internalvtuoutputsolver\n",
            "Loading user function library: [ResultOutputSolve]...[ResultOutputSolver_Init]\n",
            "Loading user function library: [ResultOutputSolve]...[ResultOutputSolver_bulk]\n",
            "Loading user function library: [ResultOutputSolve]...[ResultOutputSolver]\n",
            "AddTimeEtc: Setting time and other global variables\n",
            "ElmerSolver: Random seed initialized to: 314159265\n",
            "SetInitialConditions: Setting up initial conditions (if any)\n",
            "ElmerSolver: Number of timesteps to be saved: 1\n",
            "MAIN: \n",
            "MAIN: -------------------------------------\n",
            "MAIN:  Steady state iteration:            1\n",
            "MAIN: -------------------------------------\n",
            "MAIN: \n",
            "ListTagCount: Found number of normalized keywords: 0\n",
            "SingleSolver: Attempting to call solver\n",
            "SingleSolver: Solver Equation string is: stat elec solver\n",
            "StatElecSolver: -------------------------------------\n",
            "StatElecSolver: Electrostatics solver:\n",
            "StatElecSolver: -------------------------------------\n",
            "DefaultStart: Starting solver: stat elec solver\n",
            "StatElecSolver: Starting Assembly...\n",
            "StatElecSolver:    Assembly:  16 % done\n",
            "StatElecSolver:    Assembly:  32 % done\n",
            "StatElecSolver:    Assembly:  49 % done\n",
            "StatElecSolver:    Assembly:  65 % done\n",
            "StatElecSolver:    Assembly:  81 % done\n",
            "StatElecSolver:    Assembly:  97 % done\n",
            "DefUtils::DefaultDirichletBCs: Setting Dirichlet boundary conditions\n",
            "EnforceDirichletConditions: Applying Dirichlet conditions using scaled diagonal\n",
            "ScaleLinearSystem: Scaling diagonal entries to unity\n",
            "EnforceDirichletConditions: Dirichlet conditions enforced for dofs: 14682\n",
            "DefUtils::DefaultDirichletBCs: Dirichlet boundary conditions set\n",
            "StatElecSolver:  Assembly (s)          :   6.3046340000000001\n",
            "DefaultSolve: Solving linear system with default routines\n",
            "SolveSystem: Solving linear system\n",
            "SolveLinearSystem: Assuming real valued linear system\n",
            "SolveLinearSystem: Assuming serial linear system\n",
            "ScaleLinearSystem: Scaling diagonal entries to unity\n",
            "SolveLinearSystem: Linear System Preconditioning: ilu1\n",
            "SolveLinearSystem: Serial linear System Solver: iterative\n",
            "IterSolver: Using iterative method: bicgstab\n",
            "CRS_IncompleteLU: ILU(1) (Real), Performing Factorization:\n",
            "CRS_IncompleteLU: Allocated LU matrix of size: 12373320\n",
            "CRS_IncompleteLU: ILU(1) (Real), NOF nonzeros:  12373321\n",
            "CRS_IncompleteLU: ILU(1) (Real), filling (%) :       219\n",
            "CRS_IncompleteLU: ILU(1) (Real), Factorization ready at (s):     5.54\n",
            "       1 0.7845E-05\n",
            "       2 0.2282E-06\n",
            "       3 0.8630E-07\n",
            "       4 0.5910E-07\n",
            "       5 0.4491E-07\n",
            "       6 0.3754E-07\n",
            "       7 0.3319E-07\n",
            "       8 0.2810E-07\n",
            "       9 0.2536E-07\n",
            "      10 0.2184E-07\n",
            "      11 0.1861E-07\n",
            "      12 0.1558E-07\n",
            "      13 0.1335E-07\n",
            "      14 0.1137E-07\n",
            "      15 0.8644E-08\n",
            "      16 0.6376E-08\n",
            "      17 0.4568E-08\n",
            "      18 0.3275E-08\n",
            "      19 0.2007E-08\n",
            "      20 0.8990E-09\n",
            "      21 0.3135E-09\n",
            "      22 0.8969E-10\n",
            "      22 0.8969E-10\n",
            "ComputeNorm: Computing norm of solution\n",
            "ComputeChange: NS (ITER=1) (NRM,RELC): (  464.48457      2.0000000     ) :: stat elec solver\n",
            "StatElecSolver:  Solve (s)             :   7.8930959999999999\n",
            "StatElecSolver:  Result Norm   :    464.48456986168901\n",
            "StatElecSolver:  Relative Change :    2.0000000000000000\n",
            "DefaultFinish: Finished solver: stat elec solver\n",
            "Loading user function library: [StatElecSolve]...[StatElecSolver_post]\n",
            "ComputeNorm: Computing norm of solution\n",
            "ComputeChange: SS (ITER=1) (NRM,RELC): (  464.48457      2.0000000     ) :: stat elec solver\n",
            "SaveResult: -----------------------------------------\n",
            "SaveResult: Saving results to file: gemcell/gemcell.result\n",
            "SaveResult: Done writing results file\n",
            "SaveResult: -----------------------------------------\n",
            "SingleSolver: Attempting to call solver\n",
            "SingleSolver: Solver Equation string is: internalvtuoutputsolver\n",
            "ResultOutputSolver: -------------------------------------\n",
            "ResultOutputSolver: Saving with prefix: gemcell\n",
            "ResultOutputSolver: Working on mesh: gemcell\n",
            "ResultOutputSolver: Dimension of mesh is: 3\n",
            "ResultOutputSolver: Creating list for saving - if not present\n",
            "CreateListForSaving: Field Variables for Saving\n",
            "CreateListForSaving: Scalar Field 1: potential\n",
            "CreateListForSaving: Vector Field 1: electric field\n",
            "ResultOutputSolver: Saving in unstructured VTK XML (.vtu) format\n",
            "VtuOutputSolver: Saving results in VTK XML format with prefix: gemcell\n",
            "VtuOutputSolver: Saving number of partitions: 1\n",
            "SolverOutputDirectory: Creating directory: gemcell\n",
            "VtuOutputSolver: Full filename base is: gemcell/gemcell\n",
            "GenerateSaveMask: Number of active elements 119023 out of 119023\n",
            "GenerateSaveMask: Number of geometry nodes 144324 out of 144324\n",
            "VtuOutputSolver: Total number of elements to save: 119023\n",
            "VtuOutputSolver: Total number of geometry nodes to save: 144324\n",
            "VtuOutputSolver: Total number of dof nodes to save: 144324\n",
            "VtuOutputSolver: Setting offset for boundary entities: 100\n",
            "VtuOutputSolver: Writing the vtu file: gemcell/gemcell_t0001.vtu\n",
            "AscBinWriteInit: Initializing buffered ascii/binary writing\n",
            "AscBinWriteInit: Writing in binary\n",
            "AscBinWriteInit: Writing in double precision\n",
            "AscBinWriteInit: Writing to unit number: 58\n",
            "AscBinWriteInit: Size of buffer is: 144324\n",
            "WriteVtuFile: Writing nodal fields\n",
            "WriteVtuFile: Saving variable: potential\n",
            "WriteVtuFile: Saving variable: electric field\n",
            "WriteVtuFile: Number of nodal fields written: 2\n",
            "WriteVtuFile: Writing elemental fields\n",
            "WriteVtuFile: Number of elemental fields written: 0\n",
            "WriteVtuFile: Writing entity IDs for bodies and boundaries\n",
            "WriteVtuFile: Writing coordinates for each used node\n",
            "WriteVtuFile: Writing the elemental connectivity data\n",
            "WriteVtuFile: Writing nodal fields\n",
            "WriteVtuFile: Saving variable: potential\n",
            "WriteVtuFile: Saving variable: electric field\n",
            "WriteVtuFile: Writing elemental fields\n",
            "AscBinWriteFree: Terminating buffered ascii/binary writing\n",
            "VtuOutputSolver: All done for now\n",
            "ResultOutputSolver: -------------------------------------\n",
            "Loading user function library: [ResultOutputSolve]...[ResultOutputSolver_post]\n",
            "ReloadInputFile: Realoading input file\n",
            "LoadInputFile: Loading input file:\n",
            "ElmerSolver: *** Elmer Solver: ALL DONE ***\n",
            "ElmerSolver: The end\n",
            "SOLVER TOTAL TIME(CPU,REAL):        21.93       22.32\n",
            "ELMER SOLVER FINISHED AT: 2022/07/19 19:05:34\n"
          ]
        }
      ],
      "source": [
        "!ElmerSolver gemcell.sif"
      ]
    },
    {
      "cell_type": "markdown",
      "metadata": {
        "id": "Cactk0Gtx4W-"
      },
      "source": [
        "## Visualizing mesh and field with Garfield\n",
        "\n",
        "Define the `pitch` variable in cm for this to work"
      ]
    },
    {
      "cell_type": "code",
      "execution_count": 21,
      "metadata": {
        "colab": {
          "base_uri": "https://localhost:8080/"
        },
        "id": "0MYzMvER4rBf",
        "outputId": "8bc4002d-c782-45f2-af4a-0446283e4c5c"
      },
      "outputs": [
        {
          "name": "stdout",
          "output_type": "stream",
          "text": [
            "ComponentElmer::Initialise:\n",
            "    Read 144324 nodes and 100383 elements from file gemcell/mesh.header.\n",
            "ComponentElmer::Initialise:\n",
            "    Set material 0 of 3 to eps 1.\n",
            "ComponentElmer::Initialise:\n",
            "    Set material 1 of 3 to eps 3.23.\n",
            "ComponentElmer::Initialise:\n",
            "    Set material 2 of 3 to eps 1e+10.\n",
            "ComponentElmer::Initialise: Finished.\n",
            "ComponentElmer::Prepare:\n",
            "    Caching the bounding boxes of all elements... done.\n",
            "ComponentElmer::InitializeTetrahedralTree: Success.\n"
          ]
        }
      ],
      "source": [
        "import ROOT\n",
        "\n",
        "with open(\"gemcell/dielectrics.dat\", \"w\") as file:\n",
        "    text = \"\"\"3\n",
        "1 1\n",
        "2 3.23\n",
        "3 1e10\n",
        "\"\"\"\n",
        "    file.write(text)\n",
        "\n",
        "elm = ROOT.Garfield.ComponentElmer(\"gemcell/mesh.header\", \"gemcell/mesh.elements\", \"gemcell/mesh.nodes\",\n",
        "                                        \"gemcell/dielectrics.dat\", \"gemcell/gemcell.result\", \"cm\")\n",
        "elm.EnablePeriodicityX()\n",
        "elm.EnablePeriodicityY()"
      ]
    },
    {
      "cell_type": "code",
      "execution_count": 22,
      "metadata": {
        "colab": {
          "base_uri": "https://localhost:8080/",
          "height": 489
        },
        "id": "5XTjNei_Iquh",
        "outputId": "fa1a0028-a5a9-4bbc-a4f7-7bd8ce5abad2"
      },
      "outputs": [
        {
          "data": {
            "image/png": "[encoded data removed]",
            "text/plain": [
              "<IPython.core.display.Image object>"
            ]
          },
          "metadata": {},
          "output_type": "display_data"
        }
      ],
      "source": [
        "# Plot side geometry\n",
        "cGeom = ROOT.TCanvas(\"geom\", \"Geometry\")\n",
        "viewMesh = ROOT.Garfield.ViewFEMesh()\n",
        "viewMesh.SetCanvas(cGeom)\n",
        "viewMesh.SetComponent(elm)\n",
        "viewMesh.SetArea(-pitch, -pitch/2, -pitch, pitch, pitch/2, pitch)\n",
        "viewMesh.SetPlane(0, -1, 0, 0, 0, 0)\n",
        "viewMesh.SetFillMesh(True)\n",
        "viewMesh.SetColor(1,ROOT.kGray)\n",
        "viewMesh.SetColor(2,ROOT.kYellow + 3)\n",
        "viewMesh.EnableAxes()\n",
        "viewMesh.SetXaxisTitle(\"x (cm)\")\n",
        "viewMesh.SetYaxisTitle(\"z (cm)\")\n",
        "viewMesh.Plot()\n",
        "cGeom.Draw()"
      ]
    },
    {
      "cell_type": "code",
      "execution_count": 23,
      "metadata": {
        "colab": {
          "base_uri": "https://localhost:8080/",
          "height": 489
        },
        "id": "WKoXZvy-h5XI",
        "outputId": "e3f0ae09-203c-4712-e799-aae9e2e03758"
      },
      "outputs": [
        {
          "data": {
            "image/png": "[encoded data removed]",
            "text/plain": [
              "<IPython.core.display.Image object>"
            ]
          },
          "metadata": {},
          "output_type": "display_data"
        }
      ],
      "source": [
        "# Plot top geometry\n",
        "viewMesh.SetArea(-pitch, -pitch, -pitch, pitch,  pitch, pitch)\n",
        "viewMesh.SetPlane(0, 0, -1, 0, 0, 0)\n",
        "viewMesh.SetXaxisTitle(\"x (cm)\")\n",
        "viewMesh.SetYaxisTitle(\"y (cm)\")\n",
        "viewMesh.Plot()\n",
        "cGeom.Draw()"
      ]
    },
    {
      "cell_type": "code",
      "execution_count": 24,
      "metadata": {
        "colab": {
          "base_uri": "https://localhost:8080/",
          "height": 589
        },
        "id": "zMA1XO0JFsiR",
        "outputId": "168f2d17-2965-499b-d0e6-9e8053cd59de"
      },
      "outputs": [
        {
          "data": {
            "image/png": "[encoded data removed]",
            "text/plain": [
              "<IPython.core.display.Image object>"
            ]
          },
          "metadata": {},
          "output_type": "display_data"
        }
      ],
      "source": [
        "# Plot electric field magnitude\n",
        "cFields = ROOT.TCanvas(\"fields\", \"Fields\")\n",
        "viewField = ROOT.Garfield.ViewField()\n",
        "viewField.SetComponent(elm)\n",
        "viewField.SetCanvas(cFields)\n",
        "viewField.SetArea(-pitch, -pitch/2, pitch, pitch/2)\n",
        "viewField.SetPlane(0, -1, 0, 0, 0, 0)\n",
        "viewField.Plot(\"e\", \"colz\")\n",
        "cFields.Draw()"
      ]
    }
  ],
  "metadata": {
    "colab": {
      "collapsed_sections": [],
      "name": "square-gem-field.ipynb",
      "provenance": []
    },
    "kernelspec": {
      "display_name": "Python 3.8.10 64-bit",
      "language": "python",
      "name": "python3"
    },
    "language_info": {
      "codemirror_mode": {
        "name": "ipython",
        "version": 3
      },
      "file_extension": ".py",
      "mimetype": "text/x-python",
      "name": "python",
      "nbconvert_exporter": "python",
      "pygments_lexer": "ipython3",
      "version": "3.8.10"
    },
    "vscode": {
      "interpreter": {
        "hash": "916dbcbb3f70747c44a77c7bcd40155683ae19c65e1c03b4aa3499c5328201f1"
      }
    }
  },
  "nbformat": 4,
  "nbformat_minor": 0
}
