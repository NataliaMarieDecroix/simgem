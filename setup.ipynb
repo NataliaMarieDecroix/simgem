{
  "cells": [
    {
      "cell_type": "markdown",
      "metadata": {
        "id": "view-in-github",
        "colab_type": "text"
      },
      "source": [
        "<a href=\"https://colab.research.google.com/github/badarots/swieca22/blob/master/setup.ipynb\" target=\"_parent\"><img src=\"https://colab.research.google.com/assets/colab-badge.svg\" alt=\"Open In Colab\"/></a>"
      ]
    },
    {
      "cell_type": "markdown",
      "metadata": {
        "id": "M7WgYp-iHw4b"
      },
      "source": [
        "# Set up the environment\n",
        "The software we will use includes:\n",
        "- Gmsh -- https://gmsh.info: for defining our detector geometry and creating a finite element mesh\n",
        "- Elmer -- http://www.elmerfem.org: for solving for the electrostatic fields\n",
        "- ROOT -- https://root.cern.ch: a prerequisite for Garfield++ (with Python enabled). Note that for this example a version of ROOT has been compiled with Python 3.\n",
        "- Garfield++ -- https://garfieldpp.web.cern.ch/garfieldpp: for detector simulation\n",
        "\n",
        "The entire development environment has already been prepared to run the code in this notebook on Google Colab and will be downloaded directly below. This setup is documented in another notebook:\n",
        "\n",
        "https://colab.research.google.com/github/jerenner/garfieldfem/blob/master/garfield_FEM_install.ipynb\n",
        "\n",
        "It can be followed to perform a similar installation on a local machine."
      ]
    },
    {
      "cell_type": "markdown",
      "metadata": {
        "id": "gZmY7lO9K8DS"
      },
      "source": [
        "**Get the pre-compiled binaries and setup environment**"
      ]
    },
    {
      "cell_type": "code",
      "execution_count": 1,
      "metadata": {
        "colab": {
          "base_uri": "https://localhost:8080/"
        },
        "id": "40_k2_UFK006",
        "outputId": "1969c75e-5601-4228-c706-c43986ce1ce1"
      },
      "outputs": [
        {
          "output_type": "stream",
          "name": "stdout",
          "text": [
            "env.tar.gz\n",
            "Welcome to JupyROOT 6.22/08\n"
          ]
        }
      ],
      "source": [
        "!wget -q https://www.dropbox.com/s/wb9z69d9cbelyqq/env.tar.gz && ls env.tar.gz\n",
        "!tar -xf env.tar.gz\n",
        "!apt-get -qq install libgsl-dev\n",
        "!pip3 install -q --upgrade gmsh\n",
        "\n",
        "import numpy as np\n",
        "\n",
        "# Set the environment variables.\n",
        "import os\n",
        "os.environ[\"GARFIELD_HOME\"] = \"/content/garfield/garfieldpp\"\n",
        "os.environ[\"ROOTSYS\"] = \"/content/root/install\"\n",
        "os.environ[\"PATH\"] += \":/content/elmer/install/bin\"\n",
        "\n",
        "# Load the ROOT and Garfield libraries.\n",
        "import sys\n",
        "sys.path.append(\"/content/root/install/lib\")\n",
        "\n",
        "import ctypes\n",
        "ctypes.cdll.LoadLibrary('/content/root/install/lib/libCore.so')\n",
        "ctypes.cdll.LoadLibrary('/content/root/install/lib/libThread.so')\n",
        "ctypes.cdll.LoadLibrary('/content/root/install/lib/libtbb.so.2')\n",
        "ctypes.cdll.LoadLibrary('/content/root/install/lib/libImt.so')\n",
        "ctypes.cdll.LoadLibrary('/content/root/install/lib/libRIO.so')\n",
        "ctypes.cdll.LoadLibrary('/content/root/install/lib/libNet.so')\n",
        "ctypes.cdll.LoadLibrary('/content/root/install/lib/libTree.so')\n",
        "ctypes.cdll.LoadLibrary('/content/root/install/lib/libMathCore.so')\n",
        "ctypes.cdll.LoadLibrary('/content/root/install/lib/libMatrix.so')\n",
        "ctypes.cdll.LoadLibrary('/content/root/install/lib/libHist.so')\n",
        "ctypes.cdll.LoadLibrary('/content/root/install/lib/libGeom.so')\n",
        "ctypes.cdll.LoadLibrary('/content/root/install/lib/libXMLIO.so')\n",
        "ctypes.cdll.LoadLibrary('/content/root/install/lib/libGdml.so')\n",
        "ctypes.cdll.LoadLibrary('/content/root/install/lib/libGraf.so')\n",
        "ctypes.cdll.LoadLibrary('/content/root/install/lib/libGpad.so')\n",
        "ctypes.cdll.LoadLibrary('/content/root/install/lib/libGraf3d.so')\n",
        "ctypes.cdll.LoadLibrary('/content/root/install/lib/libcppyy_backend3_7.so')\n",
        "\n",
        "import ROOT\n",
        "ROOT.gSystem.Load(\"/content/garfield/install/lib/libmagboltz.so\")\n",
        "ROOT.gSystem.Load(\"/content/garfield/install/lib/libGarfield.so\")\n",
        "\n",
        "%jsroot off\n",
        "\n",
        "import gmsh\n",
        "\n",
        "# Change the working directory.\n",
        "working_dir = \"/content/examples\"\n",
        "if(not os.path.isdir(working_dir)):\n",
        "  os.mkdir(working_dir)\n",
        "os.chdir(working_dir)"
      ]
    },
    {
      "cell_type": "code",
      "execution_count": 2,
      "metadata": {
        "colab": {
          "base_uri": "https://localhost:8080/"
        },
        "id": "8G5a19qqw4YR",
        "outputId": "b9173068-ed56-4dc7-eb30-da1b9fa81599"
      },
      "outputs": [
        {
          "output_type": "stream",
          "name": "stdout",
          "text": [
            "4.10.5\n",
            "ELMER SOLVER (v 9.0) STARTED AT: 2022/07/13 20:05:16\n",
            "ParCommInit:  Initialize #PEs:            1\n",
            "MAIN: \n",
            "MAIN: =============================================================\n",
            "MAIN: ElmerSolver finite element software, Welcome!\n",
            "MAIN: This program is free software licensed under (L)GPL\n",
            "MAIN: Copyright 1st April 1995 - , CSC - IT Center for Science Ltd.\n",
            "MAIN: Webpage http://www.csc.fi/elmer, Email elmeradm@csc.fi\n",
            "MAIN: Version: 9.0 (Rev: cdd726ff, Compiled: 2022-07-01)\n",
            "MAIN:  Running one task without MPI parallelization.\n",
            "MAIN:  Running with just one thread per task.\n",
            "MAIN: =============================================================\n",
            "ERROR:: ElmerSolver: Unable to find ELMERSOLVER_STARTINFO, can not execute.\n",
            "STOP 1\n"
          ]
        },
        {
          "output_type": "execute_result",
          "data": {
            "text/plain": [
              "<cppyy.gbl.Garfield.MediumMagboltz object at 0xd536000>"
            ]
          },
          "metadata": {},
          "execution_count": 2
        }
      ],
      "source": [
        "!gmsh --version\n",
        "!ElmerSolver\n",
        "ROOT.Garfield.MediumMagboltz()"
      ]
    },
    {
      "cell_type": "code",
      "source": [
        ""
      ],
      "metadata": {
        "id": "EYf6Th48KKsQ"
      },
      "execution_count": null,
      "outputs": []
    }
  ],
  "metadata": {
    "colab": {
      "collapsed_sections": [
        "GLnhSvitLuZF"
      ],
      "name": "setup.ipynb",
      "provenance": [],
      "include_colab_link": true
    },
    "kernelspec": {
      "display_name": "Python 3 (ipykernel)",
      "language": "python",
      "name": "python3"
    },
    "language_info": {
      "codemirror_mode": {
        "name": "ipython",
        "version": 3
      },
      "file_extension": ".py",
      "mimetype": "text/x-python",
      "name": "python",
      "nbconvert_exporter": "python",
      "pygments_lexer": "ipython3",
      "version": "3.8.10"
    }
  },
  "nbformat": 4,
  "nbformat_minor": 0
}