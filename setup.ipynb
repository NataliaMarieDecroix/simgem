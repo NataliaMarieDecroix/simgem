{
  "cells": [
    {
      "cell_type": "markdown",
      "metadata": {
        "id": "M7WgYp-iHw4b"
      },
      "source": [
        "# Set up the environment\n",
        "The software we will use includes:\n",
        "- Gmsh -- https://gmsh.info: for defining our detector geometry and creating a finite element mesh\n",
        "- Elmer -- http://www.elmerfem.org: for solving for the electrostatic fields\n",
        "- ROOT -- https://root.cern.ch: a prerequisite for Garfield++ (with Python enabled). Note that for this example a version of ROOT has been compiled with Python 3.\n",
        "- Garfield++ -- https://garfieldpp.web.cern.ch/garfieldpp: for detector simulation\n",
        "\n",
        "The entire development environment has already been prepared to run the code in this notebook on Google Colab and will be downloaded directly below. This setup is documented in another notebook:\n",
        "\n",
        "https://colab.research.google.com/github/jerenner/garfieldfem/blob/master/garfield_FEM_install.ipynb\n",
        "\n",
        "It can be followed to perform a similar installation on a local machine."
      ]
    },
    {
      "cell_type": "markdown",
      "metadata": {
        "id": "gZmY7lO9K8DS"
      },
      "source": [
        "**Get the pre-compiled binaries and setup environment**"
      ]
    },
    {
      "cell_type": "code",
      "execution_count": 1,
      "metadata": {
        "colab": {
          "base_uri": "https://localhost:8080/"
        },
        "id": "40_k2_UFK006",
        "outputId": "14b3acee-cbcd-4d4d-9f62-355a9887e029"
      },
      "outputs": [
        {
          "output_type": "stream",
          "name": "stdout",
          "text": [
            "Downloading binaries...\n",
            "Unpacking...\n",
            "Installing dependencies....\n",
            "Welcome to JupyROOT 6.22/08\n"
          ]
        }
      ],
      "source": [
        "!wget -q https://raw.githubusercontent.com/swieca22/swieca22/master/setup.py\n",
        "import setup\n",
        "setup.install_packages()"
      ]
    },
    {
      "cell_type": "code",
      "execution_count": 2,
      "metadata": {
        "colab": {
          "base_uri": "https://localhost:8080/"
        },
        "id": "8G5a19qqw4YR",
        "outputId": "81f0b865-cfe5-4a13-95f1-d35625ea0a81"
      },
      "outputs": [
        {
          "output_type": "stream",
          "name": "stdout",
          "text": [
            "4.10.5\n",
            "ELMER SOLVER (v 9.0) STARTED AT: 2022/07/14 11:50:16\n",
            "ParCommInit:  Initialize #PEs:            1\n",
            "MAIN: \n",
            "MAIN: =============================================================\n",
            "MAIN: ElmerSolver finite element software, Welcome!\n",
            "MAIN: This program is free software licensed under (L)GPL\n",
            "MAIN: Copyright 1st April 1995 - , CSC - IT Center for Science Ltd.\n",
            "MAIN: Webpage http://www.csc.fi/elmer, Email elmeradm@csc.fi\n",
            "MAIN: Version: 9.0 (Rev: cdd726ff, Compiled: 2022-07-01)\n",
            "MAIN:  Running one task without MPI parallelization.\n",
            "MAIN:  Running with just one thread per task.\n",
            "MAIN: =============================================================\n",
            "ERROR:: ElmerSolver: Unable to find ELMERSOLVER_STARTINFO, can not execute.\n",
            "STOP 1\n"
          ]
        },
        {
          "output_type": "execute_result",
          "data": {
            "text/plain": [
              "<cppyy.gbl.Garfield.MediumMagboltz object at 0xc9fe000>"
            ]
          },
          "metadata": {},
          "execution_count": 2
        }
      ],
      "source": [
        "import ROOT\n",
        "\n",
        "!gmsh --version\n",
        "!ElmerSolver\n",
        "ROOT.Garfield.MediumMagboltz()"
      ]
    },
    {
      "cell_type": "code",
      "source": [
        ""
      ],
      "metadata": {
        "id": "zzMQQVyqiNam"
      },
      "execution_count": null,
      "outputs": []
    }
  ],
  "metadata": {
    "colab": {
      "collapsed_sections": [
        "GLnhSvitLuZF"
      ],
      "name": "setup.ipynb",
      "provenance": []
    },
    "kernelspec": {
      "display_name": "Python 3 (ipykernel)",
      "language": "python",
      "name": "python3"
    },
    "language_info": {
      "codemirror_mode": {
        "name": "ipython",
        "version": 3
      },
      "file_extension": ".py",
      "mimetype": "text/x-python",
      "name": "python",
      "nbconvert_exporter": "python",
      "pygments_lexer": "ipython3",
      "version": "3.8.10"
    }
  },
  "nbformat": 4,
  "nbformat_minor": 0
}